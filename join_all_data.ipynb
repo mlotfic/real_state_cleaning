{
 "cells": [
  {
   "cell_type": "code",
   "execution_count": 1,
   "id": "c71f0897",
   "metadata": {},
   "outputs": [],
   "source": [
    "# Reading an excel file using Python\n",
    "import numpy as np\n",
    "import pandas as pd\n",
    "import json"
   ]
  },
  {
   "cell_type": "markdown",
   "id": "5bb8b970",
   "metadata": {},
   "source": [
    "### final dataset shape \n",
    "df_names = [\"year\", \"month\", \"city\", \"district\", \"price_riyals\", \"area_m2\", \"no_deals\", \"status\", \"realstate_cls\", \"realstate_type\"]"
   ]
  },
  {
   "cell_type": "markdown",
   "id": "b2f27fa5",
   "metadata": {},
   "source": [
    "## Makkah al-Mukarramah"
   ]
  },
  {
   "cell_type": "code",
   "execution_count": 2,
   "id": "2ef2d1f8",
   "metadata": {},
   "outputs": [],
   "source": [
    "# read excel file\n",
    "df_Dammam_m = pd.read_excel(\"xlsx/Dammam_m.xlsx\")\n",
    "df_Jeddah_m = pd.read_excel(\"xlsx/Jeddah_m.xlsx\")\n",
    "df_Makkah_m = pd.read_excel(\"xlsx/Makkah_m.xlsx\")\n",
    "df_Medina_m = pd.read_excel(\"xlsx/Medina_m.xlsx\")\n",
    "df_Riyadh_m = pd.read_excel(\"xlsx/Riyadh_m.xlsx\")"
   ]
  },
  {
   "cell_type": "code",
   "execution_count": 3,
   "id": "1c51a01c",
   "metadata": {},
   "outputs": [],
   "source": [
    "# read excel file\n",
    "df_Dammam = pd.read_excel(\"xlsx/Dammam.xlsx\")\n",
    "df_Jeddah = pd.read_excel(\"xlsx/Jeddah.xlsx\")\n",
    "df_Makkah = pd.read_excel(\"xlsx/Makkah.xlsx\")\n",
    "df_Medina = pd.read_excel(\"xlsx/Medina.xlsx\")\n",
    "df_Riyadh = pd.read_excel(\"xlsx/Riyadh.xlsx\")"
   ]
  },
  {
   "cell_type": "markdown",
   "id": "905b38b7",
   "metadata": {},
   "source": [
    "### join all extract data for all cities Dammam Jeddah Makkah Medina Riyadh\n",
    "#### Contain all data have missing values"
   ]
  },
  {
   "cell_type": "code",
   "execution_count": 4,
   "id": "f8b9749a",
   "metadata": {},
   "outputs": [],
   "source": [
    "df = df_Dammam\n",
    "df = df.append(df_Jeddah)\n",
    "df = df.append(df_Makkah)\n",
    "df = df.append(df_Medina)\n",
    "df = df.append(df_Riyadh)"
   ]
  },
  {
   "cell_type": "code",
   "execution_count": 5,
   "id": "a2000b41",
   "metadata": {},
   "outputs": [
    {
     "data": {
      "text/plain": [
       "(41256, 10)"
      ]
     },
     "execution_count": 5,
     "metadata": {},
     "output_type": "execute_result"
    }
   ],
   "source": [
    "# check the size of new data\n",
    "df.shape"
   ]
  },
  {
   "cell_type": "code",
   "execution_count": 6,
   "id": "4901f5da",
   "metadata": {},
   "outputs": [
    {
     "data": {
      "text/html": [
       "<div>\n",
       "<style scoped>\n",
       "    .dataframe tbody tr th:only-of-type {\n",
       "        vertical-align: middle;\n",
       "    }\n",
       "\n",
       "    .dataframe tbody tr th {\n",
       "        vertical-align: top;\n",
       "    }\n",
       "\n",
       "    .dataframe thead th {\n",
       "        text-align: right;\n",
       "    }\n",
       "</style>\n",
       "<table border=\"1\" class=\"dataframe\">\n",
       "  <thead>\n",
       "    <tr style=\"text-align: right;\">\n",
       "      <th></th>\n",
       "      <th>year</th>\n",
       "      <th>month</th>\n",
       "      <th>city</th>\n",
       "      <th>district</th>\n",
       "      <th>price_riyals</th>\n",
       "      <th>area_m2</th>\n",
       "      <th>no_deals</th>\n",
       "      <th>status</th>\n",
       "      <th>realstate_cls</th>\n",
       "      <th>realstate_type</th>\n",
       "    </tr>\n",
       "  </thead>\n",
       "  <tbody>\n",
       "    <tr>\n",
       "      <th>0</th>\n",
       "      <td>2018</td>\n",
       "      <td>مايو</td>\n",
       "      <td>الدمام</td>\n",
       "      <td>حي/1048/ ش د</td>\n",
       "      <td>1055000</td>\n",
       "      <td>2871.08</td>\n",
       "      <td>1</td>\n",
       "      <td>معتمدة</td>\n",
       "      <td>NaN</td>\n",
       "      <td>NaN</td>\n",
       "    </tr>\n",
       "    <tr>\n",
       "      <th>1</th>\n",
       "      <td>2018</td>\n",
       "      <td>يناير</td>\n",
       "      <td>الدمام</td>\n",
       "      <td>حي/1093 ش د</td>\n",
       "      <td>0</td>\n",
       "      <td>0.00</td>\n",
       "      <td>0</td>\n",
       "      <td>معتمدة</td>\n",
       "      <td>NaN</td>\n",
       "      <td>NaN</td>\n",
       "    </tr>\n",
       "    <tr>\n",
       "      <th>2</th>\n",
       "      <td>2018</td>\n",
       "      <td>مارس</td>\n",
       "      <td>الدمام</td>\n",
       "      <td>حي/1093 ش د</td>\n",
       "      <td>0</td>\n",
       "      <td>0.00</td>\n",
       "      <td>0</td>\n",
       "      <td>معتمدة</td>\n",
       "      <td>NaN</td>\n",
       "      <td>NaN</td>\n",
       "    </tr>\n",
       "    <tr>\n",
       "      <th>3</th>\n",
       "      <td>2018</td>\n",
       "      <td>مايو</td>\n",
       "      <td>الدمام</td>\n",
       "      <td>حي/1093 ش د</td>\n",
       "      <td>0</td>\n",
       "      <td>0.00</td>\n",
       "      <td>0</td>\n",
       "      <td>معتمدة</td>\n",
       "      <td>NaN</td>\n",
       "      <td>NaN</td>\n",
       "    </tr>\n",
       "    <tr>\n",
       "      <th>4</th>\n",
       "      <td>2018</td>\n",
       "      <td>يونيو</td>\n",
       "      <td>الدمام</td>\n",
       "      <td>حي/1093 ش د</td>\n",
       "      <td>0</td>\n",
       "      <td>0.00</td>\n",
       "      <td>0</td>\n",
       "      <td>معتمدة</td>\n",
       "      <td>NaN</td>\n",
       "      <td>NaN</td>\n",
       "    </tr>\n",
       "  </tbody>\n",
       "</table>\n",
       "</div>"
      ],
      "text/plain": [
       "   year  month    city      district  price_riyals  area_m2  no_deals  status  \\\n",
       "0  2018   مايو  الدمام  حي/1048/ ش د       1055000  2871.08         1  معتمدة   \n",
       "1  2018  يناير  الدمام   حي/1093 ش د             0     0.00         0  معتمدة   \n",
       "2  2018   مارس  الدمام   حي/1093 ش د             0     0.00         0  معتمدة   \n",
       "3  2018   مايو  الدمام   حي/1093 ش د             0     0.00         0  معتمدة   \n",
       "4  2018  يونيو  الدمام   حي/1093 ش د             0     0.00         0  معتمدة   \n",
       "\n",
       "  realstate_cls realstate_type  \n",
       "0           NaN            NaN  \n",
       "1           NaN            NaN  \n",
       "2           NaN            NaN  \n",
       "3           NaN            NaN  \n",
       "4           NaN            NaN  "
      ]
     },
     "execution_count": 6,
     "metadata": {},
     "output_type": "execute_result"
    }
   ],
   "source": [
    "# check for first five rows\n",
    "df.head()"
   ]
  },
  {
   "cell_type": "code",
   "execution_count": 7,
   "id": "5d754648",
   "metadata": {},
   "outputs": [
    {
     "data": {
      "text/html": [
       "<div>\n",
       "<style scoped>\n",
       "    .dataframe tbody tr th:only-of-type {\n",
       "        vertical-align: middle;\n",
       "    }\n",
       "\n",
       "    .dataframe tbody tr th {\n",
       "        vertical-align: top;\n",
       "    }\n",
       "\n",
       "    .dataframe thead th {\n",
       "        text-align: right;\n",
       "    }\n",
       "</style>\n",
       "<table border=\"1\" class=\"dataframe\">\n",
       "  <thead>\n",
       "    <tr style=\"text-align: right;\">\n",
       "      <th></th>\n",
       "      <th>year</th>\n",
       "      <th>month</th>\n",
       "      <th>city</th>\n",
       "      <th>district</th>\n",
       "      <th>price_riyals</th>\n",
       "      <th>area_m2</th>\n",
       "      <th>no_deals</th>\n",
       "      <th>status</th>\n",
       "      <th>realstate_cls</th>\n",
       "      <th>realstate_type</th>\n",
       "    </tr>\n",
       "  </thead>\n",
       "  <tbody>\n",
       "    <tr>\n",
       "      <th>count</th>\n",
       "      <td>41256.000000</td>\n",
       "      <td>41256</td>\n",
       "      <td>41256</td>\n",
       "      <td>40404</td>\n",
       "      <td>4.125600e+04</td>\n",
       "      <td>4.125600e+04</td>\n",
       "      <td>41256.000000</td>\n",
       "      <td>41256</td>\n",
       "      <td>804</td>\n",
       "      <td>660</td>\n",
       "    </tr>\n",
       "    <tr>\n",
       "      <th>unique</th>\n",
       "      <td>NaN</td>\n",
       "      <td>12</td>\n",
       "      <td>5</td>\n",
       "      <td>1659</td>\n",
       "      <td>NaN</td>\n",
       "      <td>NaN</td>\n",
       "      <td>NaN</td>\n",
       "      <td>1</td>\n",
       "      <td>3</td>\n",
       "      <td>10</td>\n",
       "    </tr>\n",
       "    <tr>\n",
       "      <th>top</th>\n",
       "      <td>NaN</td>\n",
       "      <td>فبراير</td>\n",
       "      <td>مكة المكرمة</td>\n",
       "      <td>حي/الحمراء</td>\n",
       "      <td>NaN</td>\n",
       "      <td>NaN</td>\n",
       "      <td>NaN</td>\n",
       "      <td>معتمدة</td>\n",
       "      <td>سكني</td>\n",
       "      <td>قطعة أرض</td>\n",
       "    </tr>\n",
       "    <tr>\n",
       "      <th>freq</th>\n",
       "      <td>NaN</td>\n",
       "      <td>3800</td>\n",
       "      <td>19496</td>\n",
       "      <td>192</td>\n",
       "      <td>NaN</td>\n",
       "      <td>NaN</td>\n",
       "      <td>NaN</td>\n",
       "      <td>41256</td>\n",
       "      <td>376</td>\n",
       "      <td>144</td>\n",
       "    </tr>\n",
       "    <tr>\n",
       "      <th>mean</th>\n",
       "      <td>2019.500000</td>\n",
       "      <td>NaN</td>\n",
       "      <td>NaN</td>\n",
       "      <td>NaN</td>\n",
       "      <td>1.039169e+07</td>\n",
       "      <td>1.316392e+04</td>\n",
       "      <td>10.487808</td>\n",
       "      <td>NaN</td>\n",
       "      <td>NaN</td>\n",
       "      <td>NaN</td>\n",
       "    </tr>\n",
       "    <tr>\n",
       "      <th>std</th>\n",
       "      <td>1.118048</td>\n",
       "      <td>NaN</td>\n",
       "      <td>NaN</td>\n",
       "      <td>NaN</td>\n",
       "      <td>5.559905e+07</td>\n",
       "      <td>1.481333e+05</td>\n",
       "      <td>57.155130</td>\n",
       "      <td>NaN</td>\n",
       "      <td>NaN</td>\n",
       "      <td>NaN</td>\n",
       "    </tr>\n",
       "    <tr>\n",
       "      <th>min</th>\n",
       "      <td>2018.000000</td>\n",
       "      <td>NaN</td>\n",
       "      <td>NaN</td>\n",
       "      <td>NaN</td>\n",
       "      <td>0.000000e+00</td>\n",
       "      <td>0.000000e+00</td>\n",
       "      <td>0.000000</td>\n",
       "      <td>NaN</td>\n",
       "      <td>NaN</td>\n",
       "      <td>NaN</td>\n",
       "    </tr>\n",
       "    <tr>\n",
       "      <th>25%</th>\n",
       "      <td>2018.750000</td>\n",
       "      <td>NaN</td>\n",
       "      <td>NaN</td>\n",
       "      <td>NaN</td>\n",
       "      <td>0.000000e+00</td>\n",
       "      <td>0.000000e+00</td>\n",
       "      <td>0.000000</td>\n",
       "      <td>NaN</td>\n",
       "      <td>NaN</td>\n",
       "      <td>NaN</td>\n",
       "    </tr>\n",
       "    <tr>\n",
       "      <th>50%</th>\n",
       "      <td>2019.500000</td>\n",
       "      <td>NaN</td>\n",
       "      <td>NaN</td>\n",
       "      <td>NaN</td>\n",
       "      <td>2.800000e+05</td>\n",
       "      <td>2.512350e+02</td>\n",
       "      <td>1.000000</td>\n",
       "      <td>NaN</td>\n",
       "      <td>NaN</td>\n",
       "      <td>NaN</td>\n",
       "    </tr>\n",
       "    <tr>\n",
       "      <th>75%</th>\n",
       "      <td>2020.250000</td>\n",
       "      <td>NaN</td>\n",
       "      <td>NaN</td>\n",
       "      <td>NaN</td>\n",
       "      <td>3.452188e+06</td>\n",
       "      <td>2.237617e+03</td>\n",
       "      <td>4.000000</td>\n",
       "      <td>NaN</td>\n",
       "      <td>NaN</td>\n",
       "      <td>NaN</td>\n",
       "    </tr>\n",
       "    <tr>\n",
       "      <th>max</th>\n",
       "      <td>2021.000000</td>\n",
       "      <td>NaN</td>\n",
       "      <td>NaN</td>\n",
       "      <td>NaN</td>\n",
       "      <td>3.000000e+09</td>\n",
       "      <td>1.361769e+07</td>\n",
       "      <td>1636.000000</td>\n",
       "      <td>NaN</td>\n",
       "      <td>NaN</td>\n",
       "      <td>NaN</td>\n",
       "    </tr>\n",
       "  </tbody>\n",
       "</table>\n",
       "</div>"
      ],
      "text/plain": [
       "                year   month         city    district  price_riyals  \\\n",
       "count   41256.000000   41256        41256       40404  4.125600e+04   \n",
       "unique           NaN      12            5        1659           NaN   \n",
       "top              NaN  فبراير  مكة المكرمة  حي/الحمراء           NaN   \n",
       "freq             NaN    3800        19496         192           NaN   \n",
       "mean     2019.500000     NaN          NaN         NaN  1.039169e+07   \n",
       "std         1.118048     NaN          NaN         NaN  5.559905e+07   \n",
       "min      2018.000000     NaN          NaN         NaN  0.000000e+00   \n",
       "25%      2018.750000     NaN          NaN         NaN  0.000000e+00   \n",
       "50%      2019.500000     NaN          NaN         NaN  2.800000e+05   \n",
       "75%      2020.250000     NaN          NaN         NaN  3.452188e+06   \n",
       "max      2021.000000     NaN          NaN         NaN  3.000000e+09   \n",
       "\n",
       "             area_m2      no_deals  status realstate_cls realstate_type  \n",
       "count   4.125600e+04  41256.000000   41256           804            660  \n",
       "unique           NaN           NaN       1             3             10  \n",
       "top              NaN           NaN  معتمدة          سكني       قطعة أرض  \n",
       "freq             NaN           NaN   41256           376            144  \n",
       "mean    1.316392e+04     10.487808     NaN           NaN            NaN  \n",
       "std     1.481333e+05     57.155130     NaN           NaN            NaN  \n",
       "min     0.000000e+00      0.000000     NaN           NaN            NaN  \n",
       "25%     0.000000e+00      0.000000     NaN           NaN            NaN  \n",
       "50%     2.512350e+02      1.000000     NaN           NaN            NaN  \n",
       "75%     2.237617e+03      4.000000     NaN           NaN            NaN  \n",
       "max     1.361769e+07   1636.000000     NaN           NaN            NaN  "
      ]
     },
     "execution_count": 7,
     "metadata": {},
     "output_type": "execute_result"
    }
   ],
   "source": [
    "# current statistics of data \n",
    "df.describe(include=\"all\")"
   ]
  },
  {
   "cell_type": "code",
   "execution_count": 8,
   "id": "bb54cac5",
   "metadata": {},
   "outputs": [
    {
     "name": "stdout",
     "output_type": "stream",
     "text": [
      "<class 'pandas.core.frame.DataFrame'>\n",
      "Int64Index: 41256 entries, 0 to 8051\n",
      "Data columns (total 10 columns):\n",
      " #   Column          Non-Null Count  Dtype  \n",
      "---  ------          --------------  -----  \n",
      " 0   year            41256 non-null  int64  \n",
      " 1   month           41256 non-null  object \n",
      " 2   city            41256 non-null  object \n",
      " 3   district        40404 non-null  object \n",
      " 4   price_riyals    41256 non-null  int64  \n",
      " 5   area_m2         41256 non-null  float64\n",
      " 6   no_deals        41256 non-null  int64  \n",
      " 7   status          41256 non-null  object \n",
      " 8   realstate_cls   804 non-null    object \n",
      " 9   realstate_type  660 non-null    object \n",
      "dtypes: float64(1), int64(3), object(6)\n",
      "memory usage: 3.5+ MB\n"
     ]
    }
   ],
   "source": [
    "# current datatype of data \n",
    "df.info()"
   ]
  },
  {
   "cell_type": "markdown",
   "id": "bb9a784b",
   "metadata": {},
   "source": [
    "## Cleaning process"
   ]
  },
  {
   "cell_type": "code",
   "execution_count": 9,
   "id": "c9241d65",
   "metadata": {},
   "outputs": [],
   "source": [
    "# fill none value with zeros\n",
    "df['realstate_cls'] = df['realstate_cls'].fillna('')\n",
    "df['realstate_type'] = df['realstate_type'].fillna('')"
   ]
  },
  {
   "cell_type": "code",
   "execution_count": 10,
   "id": "f07c09ec",
   "metadata": {},
   "outputs": [
    {
     "name": "stdout",
     "output_type": "stream",
     "text": [
      "<class 'pandas.core.frame.DataFrame'>\n",
      "Int64Index: 41256 entries, 0 to 8051\n",
      "Data columns (total 10 columns):\n",
      " #   Column          Non-Null Count  Dtype  \n",
      "---  ------          --------------  -----  \n",
      " 0   year            41256 non-null  int64  \n",
      " 1   month           41256 non-null  object \n",
      " 2   city            41256 non-null  object \n",
      " 3   district        40404 non-null  object \n",
      " 4   price_riyals    41256 non-null  int64  \n",
      " 5   area_m2         41256 non-null  float64\n",
      " 6   no_deals        41256 non-null  int64  \n",
      " 7   status          41256 non-null  object \n",
      " 8   realstate_cls   41256 non-null  object \n",
      " 9   realstate_type  41256 non-null  object \n",
      "dtypes: float64(1), int64(3), object(6)\n",
      "memory usage: 3.5+ MB\n"
     ]
    }
   ],
   "source": [
    "# current datatype of data \n",
    "df.info()"
   ]
  },
  {
   "cell_type": "markdown",
   "id": "72d2499a",
   "metadata": {},
   "source": [
    "### Rearranging dataset in final shape\n",
    "#### information with no missing values"
   ]
  },
  {
   "cell_type": "code",
   "execution_count": 11,
   "id": "0534f88d",
   "metadata": {},
   "outputs": [],
   "source": [
    "# if price equal to zero and\n",
    "#    area equal to zero and\n",
    "#    number of deals equal to zero then drop those rows\n",
    "df_m = df[(df.price_riyals > 0) & (df.area_m2 > 0) & (df.no_deals > 0)]"
   ]
  },
  {
   "cell_type": "code",
   "execution_count": 12,
   "id": "da70cc20",
   "metadata": {
    "scrolled": true
   },
   "outputs": [
    {
     "data": {
      "text/html": [
       "<div>\n",
       "<style scoped>\n",
       "    .dataframe tbody tr th:only-of-type {\n",
       "        vertical-align: middle;\n",
       "    }\n",
       "\n",
       "    .dataframe tbody tr th {\n",
       "        vertical-align: top;\n",
       "    }\n",
       "\n",
       "    .dataframe thead th {\n",
       "        text-align: right;\n",
       "    }\n",
       "</style>\n",
       "<table border=\"1\" class=\"dataframe\">\n",
       "  <thead>\n",
       "    <tr style=\"text-align: right;\">\n",
       "      <th></th>\n",
       "      <th>year</th>\n",
       "      <th>month</th>\n",
       "      <th>city</th>\n",
       "      <th>district</th>\n",
       "      <th>price_riyals</th>\n",
       "      <th>area_m2</th>\n",
       "      <th>no_deals</th>\n",
       "      <th>status</th>\n",
       "      <th>realstate_cls</th>\n",
       "      <th>realstate_type</th>\n",
       "    </tr>\n",
       "  </thead>\n",
       "  <tbody>\n",
       "    <tr>\n",
       "      <th>0</th>\n",
       "      <td>2018</td>\n",
       "      <td>مايو</td>\n",
       "      <td>الدمام</td>\n",
       "      <td>حي/1048/ ش د</td>\n",
       "      <td>1055000</td>\n",
       "      <td>2871.08</td>\n",
       "      <td>1</td>\n",
       "      <td>معتمدة</td>\n",
       "      <td></td>\n",
       "      <td></td>\n",
       "    </tr>\n",
       "    <tr>\n",
       "      <th>5</th>\n",
       "      <td>2018</td>\n",
       "      <td>يوليو</td>\n",
       "      <td>الدمام</td>\n",
       "      <td>حي/1093 ش د</td>\n",
       "      <td>2090155</td>\n",
       "      <td>2396.50</td>\n",
       "      <td>8</td>\n",
       "      <td>معتمدة</td>\n",
       "      <td></td>\n",
       "      <td></td>\n",
       "    </tr>\n",
       "    <tr>\n",
       "      <th>8</th>\n",
       "      <td>2018</td>\n",
       "      <td>اكتوبر</td>\n",
       "      <td>الدمام</td>\n",
       "      <td>حي/1093 ش د</td>\n",
       "      <td>13613265</td>\n",
       "      <td>15608.50</td>\n",
       "      <td>47</td>\n",
       "      <td>معتمدة</td>\n",
       "      <td></td>\n",
       "      <td></td>\n",
       "    </tr>\n",
       "    <tr>\n",
       "      <th>11</th>\n",
       "      <td>2018</td>\n",
       "      <td>مارس</td>\n",
       "      <td>الدمام</td>\n",
       "      <td>حي/1168/ ش د</td>\n",
       "      <td>4000000</td>\n",
       "      <td>6000.00</td>\n",
       "      <td>3</td>\n",
       "      <td>معتمدة</td>\n",
       "      <td></td>\n",
       "      <td></td>\n",
       "    </tr>\n",
       "    <tr>\n",
       "      <th>12</th>\n",
       "      <td>2018</td>\n",
       "      <td>يونيو</td>\n",
       "      <td>الدمام</td>\n",
       "      <td>حي/1168/ ش د</td>\n",
       "      <td>10672400</td>\n",
       "      <td>27908.80</td>\n",
       "      <td>6</td>\n",
       "      <td>معتمدة</td>\n",
       "      <td></td>\n",
       "      <td></td>\n",
       "    </tr>\n",
       "  </tbody>\n",
       "</table>\n",
       "</div>"
      ],
      "text/plain": [
       "    year   month    city      district  price_riyals   area_m2  no_deals  \\\n",
       "0   2018    مايو  الدمام  حي/1048/ ش د       1055000   2871.08         1   \n",
       "5   2018   يوليو  الدمام   حي/1093 ش د       2090155   2396.50         8   \n",
       "8   2018  اكتوبر  الدمام   حي/1093 ش د      13613265  15608.50        47   \n",
       "11  2018    مارس  الدمام  حي/1168/ ش د       4000000   6000.00         3   \n",
       "12  2018   يونيو  الدمام  حي/1168/ ش د      10672400  27908.80         6   \n",
       "\n",
       "    status realstate_cls realstate_type  \n",
       "0   معتمدة                               \n",
       "5   معتمدة                               \n",
       "8   معتمدة                               \n",
       "11  معتمدة                               \n",
       "12  معتمدة                               "
      ]
     },
     "execution_count": 12,
     "metadata": {},
     "output_type": "execute_result"
    }
   ],
   "source": [
    "# check the modification\n",
    "df_m.head()"
   ]
  },
  {
   "cell_type": "code",
   "execution_count": 13,
   "id": "4ff0c38a",
   "metadata": {},
   "outputs": [],
   "source": [
    "# if any other columns has missing values drop this column\n",
    "#df_m = df_m.dropna(axis='columns')"
   ]
  },
  {
   "cell_type": "code",
   "execution_count": 14,
   "id": "2568ffc2",
   "metadata": {},
   "outputs": [
    {
     "name": "stdout",
     "output_type": "stream",
     "text": [
      "<class 'pandas.core.frame.DataFrame'>\n",
      "Int64Index: 22371 entries, 0 to 8043\n",
      "Data columns (total 10 columns):\n",
      " #   Column          Non-Null Count  Dtype  \n",
      "---  ------          --------------  -----  \n",
      " 0   year            22371 non-null  int64  \n",
      " 1   month           22371 non-null  object \n",
      " 2   city            22371 non-null  object \n",
      " 3   district        21858 non-null  object \n",
      " 4   price_riyals    22371 non-null  int64  \n",
      " 5   area_m2         22371 non-null  float64\n",
      " 6   no_deals        22371 non-null  int64  \n",
      " 7   status          22371 non-null  object \n",
      " 8   realstate_cls   22371 non-null  object \n",
      " 9   realstate_type  22371 non-null  object \n",
      "dtypes: float64(1), int64(3), object(6)\n",
      "memory usage: 1.9+ MB\n"
     ]
    }
   ],
   "source": [
    "# check the modification\n",
    "df_m.info()"
   ]
  },
  {
   "cell_type": "markdown",
   "id": "f210996a",
   "metadata": {},
   "source": [
    "## Saving the cleaning data in other format:\n",
    "#### Complete information with missing values"
   ]
  },
  {
   "cell_type": "code",
   "execution_count": 15,
   "id": "de47ad72",
   "metadata": {},
   "outputs": [],
   "source": [
    "# 1- saving complete dataset with missing values as excel file\n",
    "df.to_excel(excel_writer = \"xlsx/all.xlsx\", sheet_name='all', index=False)"
   ]
  },
  {
   "cell_type": "code",
   "execution_count": 16,
   "id": "ea56b0b5",
   "metadata": {},
   "outputs": [],
   "source": [
    "# 2- saving complete dataset with missing values as csv file\n",
    "df.to_csv(\"csv/all.csv\", header=True, index=False, encoding='utf_8_sig')"
   ]
  },
  {
   "cell_type": "code",
   "execution_count": 17,
   "id": "b71b2e3a",
   "metadata": {},
   "outputs": [],
   "source": [
    "# 3- saving complete dataset with missing values as json file\n",
    "with open(\"json/all.json\", \"w\") as write_file:\n",
    "    json.dump(\n",
    "        df.to_json(\n",
    "            orient='records', \n",
    "            double_precision=10, \n",
    "            force_ascii=False, \n",
    "            lines=True, \n",
    "            compression='infer', \n",
    "            index=True, \n",
    "            indent=4), \n",
    "        write_file\n",
    "    )"
   ]
  },
  {
   "cell_type": "markdown",
   "id": "76a3a69c",
   "metadata": {},
   "source": [
    "## Saving the cleaning data in other format:\n",
    "#### Information with no missing values"
   ]
  },
  {
   "cell_type": "code",
   "execution_count": 18,
   "id": "02cd1bd9",
   "metadata": {},
   "outputs": [],
   "source": [
    "# 1- saving dataset with no missing values as excel file\n",
    "df_m.to_excel(excel_writer = \"xlsx/all_m.xlsx\", sheet_name='all', index=False)"
   ]
  },
  {
   "cell_type": "code",
   "execution_count": 19,
   "id": "71ce641d",
   "metadata": {},
   "outputs": [],
   "source": [
    "# 2- saving dataset with no missing values as csv file\n",
    "df_m.to_csv(\"csv/all_m.csv\", header=True, index=False, encoding='utf_8_sig')"
   ]
  },
  {
   "cell_type": "code",
   "execution_count": 20,
   "id": "59d7b1f3",
   "metadata": {},
   "outputs": [],
   "source": [
    "# 3- saving dataset with no missing values as json file\n",
    "with open(\"json/all_m.json\", \"w\") as write_file:\n",
    "    json.dump(\n",
    "        df_m.to_json(\n",
    "            orient='records', \n",
    "            double_precision=10, \n",
    "            force_ascii=False, \n",
    "            lines=True, \n",
    "            compression='infer', \n",
    "            index=True, \n",
    "            indent=4), \n",
    "        write_file\n",
    "    )"
   ]
  },
  {
   "cell_type": "code",
   "execution_count": null,
   "id": "a811b0e2",
   "metadata": {},
   "outputs": [],
   "source": []
  }
 ],
 "metadata": {
  "kernelspec": {
   "display_name": "Python 3",
   "language": "python",
   "name": "python3"
  },
  "language_info": {
   "codemirror_mode": {
    "name": "ipython",
    "version": 3
   },
   "file_extension": ".py",
   "mimetype": "text/x-python",
   "name": "python",
   "nbconvert_exporter": "python",
   "pygments_lexer": "ipython3",
   "version": "3.8.8"
  }
 },
 "nbformat": 4,
 "nbformat_minor": 5
}
