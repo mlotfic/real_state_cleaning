{
 "cells": [
  {
   "cell_type": "code",
   "execution_count": null,
   "id": "c71f0897",
   "metadata": {},
   "outputs": [],
   "source": [
    "# Reading an excel file using Python\n",
    "import numpy as np\n",
    "import pandas as pd\n",
    "import json"
   ]
  },
  {
   "cell_type": "code",
   "execution_count": null,
   "id": "0abf4c49",
   "metadata": {},
   "outputs": [],
   "source": [
    "pd.options.mode.chained_assignment = None  # default='warn'"
   ]
  },
  {
   "cell_type": "markdown",
   "id": "5bb8b970",
   "metadata": {},
   "source": [
    "### final dataset shape \n",
    "df_names = [\"year\", \"month\", \"city\", \"district\", \"price_riyals\", \"area_m2\", \"no_deals\", \"status\", \"realstate_cls\", \"realstate_type\"]"
   ]
  },
  {
   "cell_type": "code",
   "execution_count": null,
   "id": "1c51a01c",
   "metadata": {},
   "outputs": [],
   "source": [
    "# read excel file\n",
    "df = pd.read_excel(\"data/xlsx/all.xlsx\")"
   ]
  },
  {
   "cell_type": "code",
   "execution_count": null,
   "id": "a2000b41",
   "metadata": {},
   "outputs": [],
   "source": [
    "# check the size of new data\n",
    "df.shape"
   ]
  },
  {
   "cell_type": "code",
   "execution_count": null,
   "id": "4901f5da",
   "metadata": {},
   "outputs": [],
   "source": [
    "# check for first five rows\n",
    "df.head()"
   ]
  },
  {
   "cell_type": "code",
   "execution_count": null,
   "id": "5d754648",
   "metadata": {},
   "outputs": [],
   "source": [
    "# current statistics of data \n",
    "df.describe(include=\"all\")"
   ]
  },
  {
   "cell_type": "code",
   "execution_count": null,
   "id": "bb54cac5",
   "metadata": {
    "scrolled": true
   },
   "outputs": [],
   "source": [
    "# current datatype of data \n",
    "df.info()"
   ]
  },
  {
   "cell_type": "markdown",
   "id": "5ffb5cfc",
   "metadata": {},
   "source": [
    "### Replace month name from arabic to number\n",
    "list_month = [1, 'January', 31,\n",
    "              2, 'February', 28,\n",
    "              3,'March',31,\n",
    "              4,'April',30,\n",
    "              5,'May',31,\n",
    "              6,'June',30,\n",
    "              7,'July',31,\n",
    "              8,'August',31,\n",
    "              9,'September',30,\n",
    "              10,'October',31,\n",
    "              11,'November',30,\n",
    "              12,'December',31]"
   ]
  },
  {
   "cell_type": "code",
   "execution_count": null,
   "id": "ab12e225",
   "metadata": {},
   "outputs": [],
   "source": [
    "# list of arabic months\n",
    "months_names = [\n",
    "    'يناير',\n",
    "    'فبراير',\n",
    "    'مارس',\n",
    "    'ابريل',\n",
    "    'مايو',\n",
    "    'يونيو',\n",
    "    'يوليو',\n",
    "    'اوغسطس',\n",
    "    'سبتمبر',\n",
    "    'اكتوبر',\n",
    "    'نوفمبر',\n",
    "    'ديسمبر'\n",
    "]"
   ]
  },
  {
   "cell_type": "code",
   "execution_count": null,
   "id": "4ae74f95",
   "metadata": {},
   "outputs": [],
   "source": [
    "# set counter to 1\n",
    "i = 1\n",
    "df['month_order'] = df.month"
   ]
  },
  {
   "cell_type": "code",
   "execution_count": null,
   "id": "d7b1a412",
   "metadata": {},
   "outputs": [],
   "source": [
    "df.head()"
   ]
  },
  {
   "cell_type": "code",
   "execution_count": null,
   "id": "6d20c97a",
   "metadata": {},
   "outputs": [],
   "source": [
    "# loop for each month and create a new column month_order to corresponding month order\n",
    "for month in months_names: \n",
    "    if i > 12: break \n",
    "    #if (df_fill.month_order[df_fill.month_order == month] != None):\n",
    "    df.month_order[df.month_order == month] = i       \n",
    "    i = i + 1    "
   ]
  },
  {
   "cell_type": "code",
   "execution_count": null,
   "id": "2b2603b1",
   "metadata": {},
   "outputs": [],
   "source": [
    "#check for result\n",
    "df.month_order.unique()"
   ]
  },
  {
   "cell_type": "code",
   "execution_count": null,
   "id": "d6035d5a",
   "metadata": {},
   "outputs": [],
   "source": [
    "df.head()"
   ]
  },
  {
   "cell_type": "code",
   "execution_count": null,
   "id": "75d59072",
   "metadata": {},
   "outputs": [],
   "source": [
    "df.sort_values(\n",
    "    by=['realstate_cls', 'realstate_type','city', 'district', 'year', 'month_order'], \n",
    "    axis=0, \n",
    "    ascending=True, \n",
    "    inplace=True, \n",
    "    kind='quicksort', \n",
    "    na_position='last', \n",
    "    ignore_index=True, \n",
    "    key=None\n",
    ")"
   ]
  },
  {
   "cell_type": "code",
   "execution_count": null,
   "id": "3a001b7c",
   "metadata": {},
   "outputs": [],
   "source": [
    "df = df.replace(0, np.nan)"
   ]
  },
  {
   "cell_type": "code",
   "execution_count": null,
   "id": "0075c0fb",
   "metadata": {},
   "outputs": [],
   "source": [
    "# current datatype of data \n",
    "df.info()"
   ]
  },
  {
   "cell_type": "code",
   "execution_count": null,
   "id": "d074d7a8",
   "metadata": {},
   "outputs": [],
   "source": [
    "unique_district = df.district.unique()\n",
    "len(unique_district)"
   ]
  },
  {
   "cell_type": "code",
   "execution_count": null,
   "id": "7aca51cf",
   "metadata": {},
   "outputs": [],
   "source": [
    "df.head()"
   ]
  },
  {
   "cell_type": "markdown",
   "id": "fa9e913e",
   "metadata": {},
   "source": [
    "### Fill empty with Mean"
   ]
  },
  {
   "cell_type": "code",
   "execution_count": null,
   "id": "d821b0ff",
   "metadata": {},
   "outputs": [],
   "source": [
    "df_fill = df.copy()"
   ]
  },
  {
   "cell_type": "code",
   "execution_count": null,
   "id": "76702b80",
   "metadata": {},
   "outputs": [],
   "source": [
    "for district in unique_district: \n",
    "    df_u = df_fill[(df_fill.district == district)]\n",
    "    unique_year = df_u.year.unique()\n",
    "    for year in unique_year: \n",
    "        df_y = df_u[(df_u.year == year)]\n",
    "        price_fill = df_y.price_riyals.mean(skipna=True) \n",
    "        df_y.price_riyals = df_y.price_riyals.fillna(value = price_fill, method=None)\n",
    "        #print(district, year, price_fill)\n",
    "        area_fill = df_y.area_m2[(df_u.year == year)].mean(skipna=True) \n",
    "        df_y.area_m2 = df_y.area_m2.fillna(value = area_fill, method=None)\n",
    "        #print(district, year, area_fill)\n",
    "        no_deals_fill = df_y.no_deals.mean(skipna=True) \n",
    "        df_y.no_deals = df_y.no_deals.fillna(value = no_deals_fill, method=None)\n",
    "        #print(district, year, no_deals_fill)\n",
    "        df_u[(df_u.year == year)] = df_y\n",
    "    df_fill[(df_fill.district == district)] = df_u"
   ]
  },
  {
   "cell_type": "code",
   "execution_count": null,
   "id": "3a6e946a",
   "metadata": {},
   "outputs": [],
   "source": [
    "df_fill.to_excel(excel_writer = \"m1.xlsx\", sheet_name='all', index=False)"
   ]
  },
  {
   "cell_type": "code",
   "execution_count": null,
   "id": "685c28b5",
   "metadata": {},
   "outputs": [],
   "source": [
    "df_fill.info()"
   ]
  },
  {
   "cell_type": "code",
   "execution_count": null,
   "id": "c1d442d7",
   "metadata": {},
   "outputs": [],
   "source": [
    "def district_fill_f_b(df_fill, unique_district):\n",
    "    for district in unique_district: \n",
    "        df_u = df_fill[(df_fill.district == district)] \n",
    "        df_u.price_riyals = df_u.price_riyals.ffill(axis ='rows')\n",
    "        df_u.price_riyals = df_u.price_riyals.bfill(axis ='rows')\n",
    "        #print(district, year, price_fill)\n",
    "        df_u.area_m2 = df_u.area_m2.ffill(axis ='rows')\n",
    "        df_u.area_m2 = df_u.area_m2.bfill(axis ='rows')\n",
    "        #print(district, year, area_fill)\n",
    "        df_u.no_deals = df_u.no_deals.ffill(axis ='rows')\n",
    "        df_u.no_deals = df_u.no_deals.bfill(axis ='rows')\n",
    "        #print(district, year, no_deals_fill)        \n",
    "    return df_u"
   ]
  },
  {
   "cell_type": "code",
   "execution_count": null,
   "id": "87473398",
   "metadata": {},
   "outputs": [],
   "source": [
    " df_fill[(df_fill.district == district)] = district_fill_f_b(df_fill, unique_district)   "
   ]
  },
  {
   "cell_type": "code",
   "execution_count": null,
   "id": "12de7676",
   "metadata": {},
   "outputs": [],
   "source": [
    "df_fill.info()"
   ]
  },
  {
   "cell_type": "code",
   "execution_count": null,
   "id": "5ec79b88",
   "metadata": {},
   "outputs": [],
   "source": [
    "df_u1 = df_fill[(df_fill.city == \"المدينة المنورة\")]\n",
    "df_u1.shape"
   ]
  },
  {
   "cell_type": "code",
   "execution_count": null,
   "id": "f8cd87df",
   "metadata": {},
   "outputs": [],
   "source": [
    "unique_realstate_cls = df_u1['realstate_cls'].unique()\n",
    "for realstate_cls in unique_realstate_cls: \n",
    "    df_u = df_u1[(df_u1.realstate_cls == realstate_cls)]\n",
    "    unique_year = df_u.year.unique()\n",
    "    for year in unique_year: \n",
    "        df_y = df_u[(df_u.year == year)]\n",
    "        price_fill = df_y.price_riyals.mean(skipna=True) \n",
    "        df_y.price_riyals = df_y.price_riyals.fillna(value = price_fill, method=None)\n",
    "        #print(district, year, price_fill)\n",
    "        area_fill = df_y.area_m2[(df_u.year == year)].mean(skipna=True) \n",
    "        df_y.area_m2 = df_y.area_m2.fillna(value = area_fill, method=None)\n",
    "        #print(district, year, area_fill)\n",
    "        no_deals_fill = df_y.no_deals.mean(skipna=True) \n",
    "        df_y.no_deals = df_y.no_deals.fillna(value = no_deals_fill, method=None)\n",
    "        #print(district, year, no_deals_fill)\n",
    "        df_u[(df_u.year == year)] = df_y\n",
    "    df_u1[(df_u1.realstate_cls == realstate_cls)] = df_u"
   ]
  },
  {
   "cell_type": "code",
   "execution_count": null,
   "id": "ec231fee",
   "metadata": {},
   "outputs": [],
   "source": [
    "df_u1.info()"
   ]
  },
  {
   "cell_type": "code",
   "execution_count": null,
   "id": "74f31a6a",
   "metadata": {},
   "outputs": [],
   "source": [
    "def madina_nan(df_u):\n",
    "    df_u.price_riyals = df_u.price_riyals.ffill(axis ='rows')\n",
    "    df_u.price_riyals = df_u.price_riyals.bfill(axis ='rows')\n",
    "\n",
    "    df_u.area_m2 = df_u.area_m2.ffill(axis ='rows')\n",
    "    df_u.area_m2 = df_u.area_m2.bfill(axis ='rows')\n",
    "\n",
    "    df_u.no_deals = df_u.no_deals.ffill(axis ='rows')\n",
    "    df_u.no_deals = df_u.no_deals.bfill(axis ='rows')\n",
    "    return df_u"
   ]
  },
  {
   "cell_type": "code",
   "execution_count": null,
   "id": "7f3d1843",
   "metadata": {},
   "outputs": [],
   "source": [
    "df_u = df_u1[(df_u1.realstate_cls.isna())] \n",
    "df_u.head()"
   ]
  },
  {
   "cell_type": "code",
   "execution_count": null,
   "id": "d954587b",
   "metadata": {},
   "outputs": [],
   "source": [
    "df_u1[(df_u1.realstate_cls.isna())]  = madina_nan(df_u)"
   ]
  },
  {
   "cell_type": "code",
   "execution_count": null,
   "id": "5d01af8d",
   "metadata": {},
   "outputs": [],
   "source": [
    "df_u1.info()"
   ]
  },
  {
   "cell_type": "code",
   "execution_count": null,
   "id": "4fb8795c",
   "metadata": {},
   "outputs": [],
   "source": [
    "df_fill[(df_fill.city == \"المدينة المنورة\")] = df_u1 "
   ]
  },
  {
   "cell_type": "code",
   "execution_count": null,
   "id": "d6ab14ac",
   "metadata": {},
   "outputs": [],
   "source": [
    "df_fill.info()"
   ]
  },
  {
   "cell_type": "code",
   "execution_count": null,
   "id": "304d49c2",
   "metadata": {},
   "outputs": [],
   "source": [
    "df_fill.head()"
   ]
  },
  {
   "cell_type": "code",
   "execution_count": null,
   "id": "af67541f",
   "metadata": {},
   "outputs": [],
   "source": [
    "df_fill['no_deals'] = df_fill['no_deals'].round(decimals = 0)"
   ]
  },
  {
   "cell_type": "code",
   "execution_count": null,
   "id": "1b008837",
   "metadata": {},
   "outputs": [],
   "source": [
    "df_fill.head()"
   ]
  },
  {
   "cell_type": "markdown",
   "id": "e0813ae4",
   "metadata": {},
   "source": [
    "## Saving the filling data with mean in other format:"
   ]
  },
  {
   "cell_type": "code",
   "execution_count": null,
   "id": "078dd5b2",
   "metadata": {},
   "outputs": [],
   "source": [
    "# 1- saving complete dataset with missing values as excel file\n",
    "df_fill.to_excel(excel_writer = \"data/xlsx/all_mean.xlsx\", sheet_name='all', index=False)"
   ]
  },
  {
   "cell_type": "code",
   "execution_count": null,
   "id": "782cf1e1",
   "metadata": {},
   "outputs": [],
   "source": [
    "# 2- saving complete dataset with missing values as csv file\n",
    "df_fill.to_csv(\"data/csv/all_mean.csv\", header=True, index=False, encoding='utf_8_sig')"
   ]
  },
  {
   "cell_type": "code",
   "execution_count": null,
   "id": "96376512",
   "metadata": {},
   "outputs": [],
   "source": [
    "# 3- saving complete dataset with missing values as json file\n",
    "with open(\"data/json/all_mean.json\", \"w\") as write_file:\n",
    "    json.dump(\n",
    "        df_fill.to_json(\n",
    "            orient='records', \n",
    "            double_precision=10, \n",
    "            force_ascii=False, \n",
    "            lines=True, \n",
    "            compression='infer', \n",
    "            index=True, \n",
    "            indent=4), \n",
    "        write_file\n",
    "    )"
   ]
  },
  {
   "cell_type": "markdown",
   "id": "9d5ee957",
   "metadata": {},
   "source": [
    "### Fill empty with fill medain"
   ]
  },
  {
   "cell_type": "code",
   "execution_count": null,
   "id": "a1705555",
   "metadata": {},
   "outputs": [],
   "source": [
    "df_fill = df.copy()"
   ]
  },
  {
   "cell_type": "code",
   "execution_count": null,
   "id": "5b481579",
   "metadata": {},
   "outputs": [],
   "source": [
    "df_fill.info()"
   ]
  },
  {
   "cell_type": "code",
   "execution_count": null,
   "id": "a7d8042c",
   "metadata": {},
   "outputs": [],
   "source": [
    "for district in unique_district: \n",
    "    df_u = df_fill[(df_fill.district == district)]\n",
    "    unique_year = df_u.year.unique()\n",
    "    for year in unique_year: \n",
    "        df_y = df_u[(df_u.year == year)]\n",
    "        price_fill = df_y.price_riyals.median(skipna=True) \n",
    "        df_y.price_riyals = df_y.price_riyals.fillna(value = price_fill, method=None)\n",
    "        #print(district, year, price_fill)\n",
    "        area_fill = df_y.area_m2[(df_u.year == year)].median(skipna=True) \n",
    "        df_y.area_m2 = df_y.area_m2.fillna(value = area_fill, method=None)\n",
    "        #print(district, year, area_fill)\n",
    "        no_deals_fill = df_y.no_deals.median(skipna=True) \n",
    "        df_y.no_deals = df_y.no_deals.fillna(value = no_deals_fill, method=None)\n",
    "        #print(district, year, no_deals_fill)\n",
    "        df_u[(df_u.year == year)] = df_y\n",
    "    df_fill[(df_fill.district == district)] = df_u"
   ]
  },
  {
   "cell_type": "code",
   "execution_count": null,
   "id": "e9ff96b6",
   "metadata": {},
   "outputs": [],
   "source": [
    "df_fill.info()"
   ]
  },
  {
   "cell_type": "code",
   "execution_count": null,
   "id": "ef0d5a29",
   "metadata": {},
   "outputs": [],
   "source": [
    " df_fill[(df_fill.district == district)] = district_fill_f_b(df_fill, unique_district)   "
   ]
  },
  {
   "cell_type": "code",
   "execution_count": null,
   "id": "d8309598",
   "metadata": {},
   "outputs": [],
   "source": [
    "df_fill.info()"
   ]
  },
  {
   "cell_type": "code",
   "execution_count": null,
   "id": "0fc46bc6",
   "metadata": {},
   "outputs": [],
   "source": [
    "df_u1 = df_fill[(df_fill.city == \"المدينة المنورة\")]\n",
    "df_u1.shape"
   ]
  },
  {
   "cell_type": "code",
   "execution_count": null,
   "id": "7a643ac7",
   "metadata": {},
   "outputs": [],
   "source": [
    "unique_realstate_cls = df_u1['realstate_cls'].unique()\n",
    "for realstate_cls in unique_realstate_cls: \n",
    "    df_u = df_u1[(df_u1.realstate_cls == realstate_cls)]\n",
    "    unique_year = df_u.year.unique()\n",
    "    for year in unique_year: \n",
    "        df_y = df_u[(df_u.year == year)]\n",
    "        price_fill = df_y.price_riyals.median(skipna=True) \n",
    "        df_y.price_riyals = df_y.price_riyals.fillna(value = price_fill, method=None)\n",
    "        #print(district, year, price_fill)\n",
    "        area_fill = df_y.area_m2[(df_u.year == year)].median(skipna=True) \n",
    "        df_y.area_m2 = df_y.area_m2.fillna(value = area_fill, method=None)\n",
    "        #print(district, year, area_fill)\n",
    "        no_deals_fill = df_y.no_deals.median(skipna=True) \n",
    "        df_y.no_deals = df_y.no_deals.fillna(value = no_deals_fill, method=None)\n",
    "        #print(district, year, no_deals_fill)\n",
    "        df_u[(df_u.year == year)] = df_y\n",
    "    df_u1[(df_u1.realstate_cls == realstate_cls)] = df_u"
   ]
  },
  {
   "cell_type": "code",
   "execution_count": null,
   "id": "5fff7587",
   "metadata": {},
   "outputs": [],
   "source": [
    "df_u1.info()"
   ]
  },
  {
   "cell_type": "code",
   "execution_count": null,
   "id": "556c9339",
   "metadata": {},
   "outputs": [],
   "source": [
    "df_u = df_u1[(df_u1.realstate_cls.isna())] \n",
    "df_u"
   ]
  },
  {
   "cell_type": "code",
   "execution_count": null,
   "id": "cc92ab5a",
   "metadata": {},
   "outputs": [],
   "source": [
    "df_u1[(df_u1.realstate_cls.isna())]  = madina_nan(df_u)"
   ]
  },
  {
   "cell_type": "code",
   "execution_count": null,
   "id": "6c72dbfa",
   "metadata": {},
   "outputs": [],
   "source": [
    "df_u1.info()"
   ]
  },
  {
   "cell_type": "code",
   "execution_count": null,
   "id": "406c28cb",
   "metadata": {},
   "outputs": [],
   "source": [
    "df_fill[(df_fill.city == \"المدينة المنورة\")] = df_u1 "
   ]
  },
  {
   "cell_type": "code",
   "execution_count": null,
   "id": "2fe46cb7",
   "metadata": {},
   "outputs": [],
   "source": [
    "df_fill.info()"
   ]
  },
  {
   "cell_type": "code",
   "execution_count": null,
   "id": "aa196a93",
   "metadata": {},
   "outputs": [],
   "source": [
    "df_fill.head()"
   ]
  },
  {
   "cell_type": "code",
   "execution_count": null,
   "id": "3a86f24c",
   "metadata": {},
   "outputs": [],
   "source": [
    "df_fill['no_deals'] = df_fill['no_deals'].round(decimals = 0)"
   ]
  },
  {
   "cell_type": "code",
   "execution_count": null,
   "id": "9b86fc29",
   "metadata": {},
   "outputs": [],
   "source": [
    "df_fill.head()"
   ]
  },
  {
   "cell_type": "markdown",
   "id": "75cd8b32",
   "metadata": {},
   "source": [
    "## Saving the filling data with mean in other format:"
   ]
  },
  {
   "cell_type": "code",
   "execution_count": null,
   "id": "6136841d",
   "metadata": {},
   "outputs": [],
   "source": [
    "# 1- saving complete dataset with missing values as excel file\n",
    "df_fill.to_excel(excel_writer = \"data/xlsx/all_median.xlsx\", sheet_name='all', index=False)"
   ]
  },
  {
   "cell_type": "code",
   "execution_count": null,
   "id": "dd5296ec",
   "metadata": {},
   "outputs": [],
   "source": [
    "# 2- saving complete dataset with missing values as csv file\n",
    "df_fill.to_csv(\"data/csv/all_median.csv\", header=True, index=False, encoding='utf_8_sig')"
   ]
  },
  {
   "cell_type": "code",
   "execution_count": null,
   "id": "8be56522",
   "metadata": {},
   "outputs": [],
   "source": [
    "# 3- saving complete dataset with missing values as json file\n",
    "with open(\"data/json/all_median.json\", \"w\") as write_file:\n",
    "    json.dump(\n",
    "        df_fill.to_json(\n",
    "            orient='records', \n",
    "            double_precision=10, \n",
    "            force_ascii=False, \n",
    "            lines=True, \n",
    "            compression='infer', \n",
    "            index=True, \n",
    "            indent=4), \n",
    "        write_file\n",
    "    )"
   ]
  },
  {
   "cell_type": "markdown",
   "id": "f9509745",
   "metadata": {},
   "source": [
    "### Fill empty with fill forward and backward"
   ]
  },
  {
   "cell_type": "markdown",
   "id": "4225be0c",
   "metadata": {},
   "source": [
    "### Fill empty with fill forward"
   ]
  },
  {
   "cell_type": "code",
   "execution_count": null,
   "id": "0f6321df",
   "metadata": {},
   "outputs": [],
   "source": [
    "df_fill = df"
   ]
  },
  {
   "cell_type": "code",
   "execution_count": null,
   "id": "8d33c95a",
   "metadata": {},
   "outputs": [],
   "source": [
    "for district in unique_district: \n",
    "    df_u = df_fill[(df_fill.district == district)] \n",
    "    df_u.price_riyals = df_u.price_riyals.ffill(axis ='rows')\n",
    "    df_u.price_riyals = df_u.price_riyals.bfill(axis ='rows')\n",
    "    #print(district, year, price_fill)\n",
    "    df_u.area_m2 = df_u.area_m2.ffill(axis ='rows')\n",
    "    df_u.area_m2 = df_u.area_m2.bfill(axis ='rows')\n",
    "    #print(district, year, area_fill)\n",
    "    df_u.no_deals = df_u.no_deals.ffill(axis ='rows')\n",
    "    df_u.no_deals = df_u.no_deals.bfill(axis ='rows')\n",
    "    #print(district, year, no_deals_fill)\n",
    "    df_fill[(df_fill.district == district)] = df_u"
   ]
  },
  {
   "cell_type": "code",
   "execution_count": null,
   "id": "a9ce6214",
   "metadata": {},
   "outputs": [],
   "source": [
    "df_fill.info()"
   ]
  },
  {
   "cell_type": "code",
   "execution_count": null,
   "id": "99852868",
   "metadata": {},
   "outputs": [],
   "source": [
    "df_u1 = df_fill[(df_fill.city == \"المدينة المنورة\")]\n",
    "df_u1.shape"
   ]
  },
  {
   "cell_type": "code",
   "execution_count": null,
   "id": "e75e46a5",
   "metadata": {},
   "outputs": [],
   "source": [
    "df_u = df_u1[(df_u1.realstate_cls.isna())] \n",
    "df_u"
   ]
  },
  {
   "cell_type": "code",
   "execution_count": null,
   "id": "51ee6daf",
   "metadata": {},
   "outputs": [],
   "source": [
    "df_u1[(df_u1.realstate_cls.isna())]  = madina_nan(df_u)"
   ]
  },
  {
   "cell_type": "code",
   "execution_count": null,
   "id": "f4224296",
   "metadata": {},
   "outputs": [],
   "source": [
    "df_fill.info()"
   ]
  },
  {
   "cell_type": "code",
   "execution_count": null,
   "id": "d363a372",
   "metadata": {},
   "outputs": [],
   "source": [
    "df_fill"
   ]
  },
  {
   "cell_type": "markdown",
   "id": "c8238e2c",
   "metadata": {},
   "source": [
    "## Saving the filling data with mean in other format:"
   ]
  },
  {
   "cell_type": "code",
   "execution_count": null,
   "id": "296390d2",
   "metadata": {},
   "outputs": [],
   "source": [
    "# 1- saving complete dataset with missing values as excel file\n",
    "df_fill.to_excel(excel_writer = \"data/xlsx/all_forward.xlsx\", sheet_name='all', index=False)"
   ]
  },
  {
   "cell_type": "code",
   "execution_count": null,
   "id": "664b2d4e",
   "metadata": {},
   "outputs": [],
   "source": [
    "# 2- saving complete dataset with missing values as csv file\n",
    "df_fill.to_csv(\"data/csv/all_forward.csv\", header=True, index=False, encoding='utf_8_sig')"
   ]
  },
  {
   "cell_type": "code",
   "execution_count": null,
   "id": "c19e3edc",
   "metadata": {},
   "outputs": [],
   "source": [
    "# 3- saving complete dataset with missing values as json file\n",
    "with open(\"data/json/all_forward.json\", \"w\") as write_file:\n",
    "    json.dump(\n",
    "        df_fill.to_json(\n",
    "            orient='records', \n",
    "            double_precision=10, \n",
    "            force_ascii=False, \n",
    "            lines=True, \n",
    "            compression='infer', \n",
    "            index=True, \n",
    "            indent=4), \n",
    "        write_file\n",
    "    )"
   ]
  },
  {
   "cell_type": "markdown",
   "id": "19763354",
   "metadata": {},
   "source": [
    "### Fill empty with fill forward and backward"
   ]
  },
  {
   "cell_type": "markdown",
   "id": "89efb491",
   "metadata": {},
   "source": [
    "### Fill empty with fill backward"
   ]
  },
  {
   "cell_type": "code",
   "execution_count": null,
   "id": "1c1edbee",
   "metadata": {},
   "outputs": [],
   "source": [
    "df_fill = df"
   ]
  },
  {
   "cell_type": "code",
   "execution_count": null,
   "id": "2b3ada2b",
   "metadata": {},
   "outputs": [],
   "source": [
    "for district in unique_district: \n",
    "    df_u = df_fill[(df_fill.district == district)] \n",
    "    df_u.price_riyals = df_u.price_riyals.bfill(axis ='rows')\n",
    "    df_u.price_riyals = df_u.price_riyals.ffill(axis ='rows')\n",
    "    #print(district, year, price_fill)    \n",
    "    df_u.area_m2 = df_u.area_m2.bfill(axis ='rows')\n",
    "    df_u.area_m2 = df_u.area_m2.ffill(axis ='rows')\n",
    "    #print(district, year, area_fill)    \n",
    "    df_u.no_deals = df_u.no_deals.bfill(axis ='rows')\n",
    "    df_u.no_deals = df_u.no_deals.ffill(axis ='rows')\n",
    "    #print(district, year, no_deals_fill)\n",
    "    df_fill[(df_fill.district == district)] = df_u"
   ]
  },
  {
   "cell_type": "code",
   "execution_count": null,
   "id": "486b636d",
   "metadata": {},
   "outputs": [],
   "source": [
    "df_fill.info()"
   ]
  },
  {
   "cell_type": "code",
   "execution_count": null,
   "id": "898cf171",
   "metadata": {},
   "outputs": [],
   "source": [
    "df_u1 = df_fill[(df_fill.city == \"المدينة المنورة\")]\n",
    "df_u1.shape"
   ]
  },
  {
   "cell_type": "code",
   "execution_count": null,
   "id": "24a9bda8",
   "metadata": {},
   "outputs": [],
   "source": [
    "df_u = df_u1[(df_u1.realstate_cls.isna())] \n",
    "df_u"
   ]
  },
  {
   "cell_type": "code",
   "execution_count": null,
   "id": "ec39889d",
   "metadata": {},
   "outputs": [],
   "source": [
    "def madina_nan_b(df_u):\n",
    "    df_u.price_riyals = df_u.price_riyals.bfill(axis ='rows')\n",
    "    df_u.price_riyals = df_u.price_riyals.ffill(axis ='rows')    \n",
    "\n",
    "    df_u.area_m2 = df_u.area_m2.bfill(axis ='rows')\n",
    "    df_u.area_m2 = df_u.area_m2.ffill(axis ='rows')    \n",
    "\n",
    "    df_u.no_deals = df_u.no_deals.bfill(axis ='rows')\n",
    "    df_u.no_deals = df_u.no_deals.ffill(axis ='rows')\n",
    "    return df_u"
   ]
  },
  {
   "cell_type": "code",
   "execution_count": null,
   "id": "74839035",
   "metadata": {},
   "outputs": [],
   "source": [
    "df_u1[(df_u1.realstate_cls.isna())]  = madina_nan_b(df_u)"
   ]
  },
  {
   "cell_type": "code",
   "execution_count": null,
   "id": "ccb1313d",
   "metadata": {},
   "outputs": [],
   "source": [
    "df_fill.info()"
   ]
  },
  {
   "cell_type": "code",
   "execution_count": null,
   "id": "94e90ebb",
   "metadata": {},
   "outputs": [],
   "source": [
    "df_fill"
   ]
  },
  {
   "cell_type": "markdown",
   "id": "066c9baa",
   "metadata": {},
   "source": [
    "## Saving the filling data with mean in other format:"
   ]
  },
  {
   "cell_type": "code",
   "execution_count": null,
   "id": "e67cbaf1",
   "metadata": {},
   "outputs": [],
   "source": [
    "# 1- saving complete dataset with missing values as excel file\n",
    "df_fill.to_excel(excel_writer = \"data/xlsx/all_backward.xlsx\", sheet_name='all', index=False)"
   ]
  },
  {
   "cell_type": "code",
   "execution_count": null,
   "id": "95714dfc",
   "metadata": {},
   "outputs": [],
   "source": [
    "# 2- saving complete dataset with missing values as csv file\n",
    "df_fill.to_csv(\"data/csv/all_backward.csv\", header=True, index=False, encoding='utf_8_sig')"
   ]
  },
  {
   "cell_type": "code",
   "execution_count": null,
   "id": "19ec9f6a",
   "metadata": {},
   "outputs": [],
   "source": [
    "# 3- saving complete dataset with missing values as json file\n",
    "with open(\"data/json/all_backward.json\", \"w\") as write_file:\n",
    "    json.dump(\n",
    "        df_fill.to_json(\n",
    "            orient='records', \n",
    "            double_precision=10, \n",
    "            force_ascii=False, \n",
    "            lines=True, \n",
    "            compression='infer', \n",
    "            index=True, \n",
    "            indent=4), \n",
    "        write_file\n",
    "    )"
   ]
  }
 ],
 "metadata": {
  "kernelspec": {
   "display_name": "Python 3",
   "language": "python",
   "name": "python3"
  },
  "language_info": {
   "codemirror_mode": {
    "name": "ipython",
    "version": 3
   },
   "file_extension": ".py",
   "mimetype": "text/x-python",
   "name": "python",
   "nbconvert_exporter": "python",
   "pygments_lexer": "ipython3",
   "version": "3.8.8"
  }
 },
 "nbformat": 4,
 "nbformat_minor": 5
}
