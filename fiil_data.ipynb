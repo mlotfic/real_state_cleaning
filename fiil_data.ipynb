{
 "cells": [
  {
   "cell_type": "code",
   "execution_count": 2,
   "id": "c71f0897",
   "metadata": {},
   "outputs": [],
   "source": [
    "# Reading an excel file using Python\n",
    "import numpy as np\n",
    "import pandas as pd\n",
    "import json"
   ]
  },
  {
   "cell_type": "markdown",
   "id": "5bb8b970",
   "metadata": {},
   "source": [
    "### final dataset shape \n",
    "df_names = [\"year\", \"month\", \"city\", \"district\", \"price_riyals\", \"area_m2\", \"no_deals\", \"status\", \"realstate_cls\", \"realstate_type\"]"
   ]
  },
  {
   "cell_type": "markdown",
   "id": "b2f27fa5",
   "metadata": {},
   "source": [
    "## Makkah al-Mukarramah"
   ]
  },
  {
   "cell_type": "code",
   "execution_count": 3,
   "id": "1c51a01c",
   "metadata": {},
   "outputs": [],
   "source": [
    "# read excel file\n",
    "df = pd.read_excel(\"data/xlsx/all.xlsx\")"
   ]
  },
  {
   "cell_type": "code",
   "execution_count": 4,
   "id": "a2000b41",
   "metadata": {},
   "outputs": [
    {
     "data": {
      "text/plain": [
       "(41256, 10)"
      ]
     },
     "execution_count": 4,
     "metadata": {},
     "output_type": "execute_result"
    }
   ],
   "source": [
    "# check the size of new data\n",
    "df.shape"
   ]
  },
  {
   "cell_type": "code",
   "execution_count": 5,
   "id": "4901f5da",
   "metadata": {},
   "outputs": [
    {
     "data": {
      "text/html": [
       "<div>\n",
       "<style scoped>\n",
       "    .dataframe tbody tr th:only-of-type {\n",
       "        vertical-align: middle;\n",
       "    }\n",
       "\n",
       "    .dataframe tbody tr th {\n",
       "        vertical-align: top;\n",
       "    }\n",
       "\n",
       "    .dataframe thead th {\n",
       "        text-align: right;\n",
       "    }\n",
       "</style>\n",
       "<table border=\"1\" class=\"dataframe\">\n",
       "  <thead>\n",
       "    <tr style=\"text-align: right;\">\n",
       "      <th></th>\n",
       "      <th>year</th>\n",
       "      <th>month</th>\n",
       "      <th>city</th>\n",
       "      <th>district</th>\n",
       "      <th>price_riyals</th>\n",
       "      <th>area_m2</th>\n",
       "      <th>no_deals</th>\n",
       "      <th>status</th>\n",
       "      <th>realstate_cls</th>\n",
       "      <th>realstate_type</th>\n",
       "    </tr>\n",
       "  </thead>\n",
       "  <tbody>\n",
       "    <tr>\n",
       "      <th>0</th>\n",
       "      <td>2018</td>\n",
       "      <td>مايو</td>\n",
       "      <td>الدمام</td>\n",
       "      <td>حي/1048/ ش د</td>\n",
       "      <td>1055000</td>\n",
       "      <td>2871.08</td>\n",
       "      <td>1</td>\n",
       "      <td>معتمدة</td>\n",
       "      <td>NaN</td>\n",
       "      <td>NaN</td>\n",
       "    </tr>\n",
       "    <tr>\n",
       "      <th>1</th>\n",
       "      <td>2018</td>\n",
       "      <td>يناير</td>\n",
       "      <td>الدمام</td>\n",
       "      <td>حي/1093 ش د</td>\n",
       "      <td>0</td>\n",
       "      <td>0.00</td>\n",
       "      <td>0</td>\n",
       "      <td>معتمدة</td>\n",
       "      <td>NaN</td>\n",
       "      <td>NaN</td>\n",
       "    </tr>\n",
       "    <tr>\n",
       "      <th>2</th>\n",
       "      <td>2018</td>\n",
       "      <td>مارس</td>\n",
       "      <td>الدمام</td>\n",
       "      <td>حي/1093 ش د</td>\n",
       "      <td>0</td>\n",
       "      <td>0.00</td>\n",
       "      <td>0</td>\n",
       "      <td>معتمدة</td>\n",
       "      <td>NaN</td>\n",
       "      <td>NaN</td>\n",
       "    </tr>\n",
       "    <tr>\n",
       "      <th>3</th>\n",
       "      <td>2018</td>\n",
       "      <td>مايو</td>\n",
       "      <td>الدمام</td>\n",
       "      <td>حي/1093 ش د</td>\n",
       "      <td>0</td>\n",
       "      <td>0.00</td>\n",
       "      <td>0</td>\n",
       "      <td>معتمدة</td>\n",
       "      <td>NaN</td>\n",
       "      <td>NaN</td>\n",
       "    </tr>\n",
       "    <tr>\n",
       "      <th>4</th>\n",
       "      <td>2018</td>\n",
       "      <td>يونيو</td>\n",
       "      <td>الدمام</td>\n",
       "      <td>حي/1093 ش د</td>\n",
       "      <td>0</td>\n",
       "      <td>0.00</td>\n",
       "      <td>0</td>\n",
       "      <td>معتمدة</td>\n",
       "      <td>NaN</td>\n",
       "      <td>NaN</td>\n",
       "    </tr>\n",
       "  </tbody>\n",
       "</table>\n",
       "</div>"
      ],
      "text/plain": [
       "   year  month    city      district  price_riyals  area_m2  no_deals  status  \\\n",
       "0  2018   مايو  الدمام  حي/1048/ ش د       1055000  2871.08         1  معتمدة   \n",
       "1  2018  يناير  الدمام   حي/1093 ش د             0     0.00         0  معتمدة   \n",
       "2  2018   مارس  الدمام   حي/1093 ش د             0     0.00         0  معتمدة   \n",
       "3  2018   مايو  الدمام   حي/1093 ش د             0     0.00         0  معتمدة   \n",
       "4  2018  يونيو  الدمام   حي/1093 ش د             0     0.00         0  معتمدة   \n",
       "\n",
       "  realstate_cls realstate_type  \n",
       "0           NaN            NaN  \n",
       "1           NaN            NaN  \n",
       "2           NaN            NaN  \n",
       "3           NaN            NaN  \n",
       "4           NaN            NaN  "
      ]
     },
     "execution_count": 5,
     "metadata": {},
     "output_type": "execute_result"
    }
   ],
   "source": [
    "# check for first five rows\n",
    "df.head()"
   ]
  },
  {
   "cell_type": "code",
   "execution_count": 6,
   "id": "5d754648",
   "metadata": {},
   "outputs": [
    {
     "data": {
      "text/html": [
       "<div>\n",
       "<style scoped>\n",
       "    .dataframe tbody tr th:only-of-type {\n",
       "        vertical-align: middle;\n",
       "    }\n",
       "\n",
       "    .dataframe tbody tr th {\n",
       "        vertical-align: top;\n",
       "    }\n",
       "\n",
       "    .dataframe thead th {\n",
       "        text-align: right;\n",
       "    }\n",
       "</style>\n",
       "<table border=\"1\" class=\"dataframe\">\n",
       "  <thead>\n",
       "    <tr style=\"text-align: right;\">\n",
       "      <th></th>\n",
       "      <th>year</th>\n",
       "      <th>month</th>\n",
       "      <th>city</th>\n",
       "      <th>district</th>\n",
       "      <th>price_riyals</th>\n",
       "      <th>area_m2</th>\n",
       "      <th>no_deals</th>\n",
       "      <th>status</th>\n",
       "      <th>realstate_cls</th>\n",
       "      <th>realstate_type</th>\n",
       "    </tr>\n",
       "  </thead>\n",
       "  <tbody>\n",
       "    <tr>\n",
       "      <th>count</th>\n",
       "      <td>41256.000000</td>\n",
       "      <td>41256</td>\n",
       "      <td>41256</td>\n",
       "      <td>40404</td>\n",
       "      <td>4.125600e+04</td>\n",
       "      <td>4.125600e+04</td>\n",
       "      <td>41256.000000</td>\n",
       "      <td>41256</td>\n",
       "      <td>804</td>\n",
       "      <td>660</td>\n",
       "    </tr>\n",
       "    <tr>\n",
       "      <th>unique</th>\n",
       "      <td>NaN</td>\n",
       "      <td>12</td>\n",
       "      <td>5</td>\n",
       "      <td>1659</td>\n",
       "      <td>NaN</td>\n",
       "      <td>NaN</td>\n",
       "      <td>NaN</td>\n",
       "      <td>1</td>\n",
       "      <td>3</td>\n",
       "      <td>10</td>\n",
       "    </tr>\n",
       "    <tr>\n",
       "      <th>top</th>\n",
       "      <td>NaN</td>\n",
       "      <td>فبراير</td>\n",
       "      <td>مكة المكرمة</td>\n",
       "      <td>حي/الفيحاء</td>\n",
       "      <td>NaN</td>\n",
       "      <td>NaN</td>\n",
       "      <td>NaN</td>\n",
       "      <td>معتمدة</td>\n",
       "      <td>سكني</td>\n",
       "      <td>قطعة أرض</td>\n",
       "    </tr>\n",
       "    <tr>\n",
       "      <th>freq</th>\n",
       "      <td>NaN</td>\n",
       "      <td>3800</td>\n",
       "      <td>19496</td>\n",
       "      <td>192</td>\n",
       "      <td>NaN</td>\n",
       "      <td>NaN</td>\n",
       "      <td>NaN</td>\n",
       "      <td>41256</td>\n",
       "      <td>376</td>\n",
       "      <td>144</td>\n",
       "    </tr>\n",
       "    <tr>\n",
       "      <th>mean</th>\n",
       "      <td>2019.500000</td>\n",
       "      <td>NaN</td>\n",
       "      <td>NaN</td>\n",
       "      <td>NaN</td>\n",
       "      <td>1.039169e+07</td>\n",
       "      <td>1.316392e+04</td>\n",
       "      <td>10.487808</td>\n",
       "      <td>NaN</td>\n",
       "      <td>NaN</td>\n",
       "      <td>NaN</td>\n",
       "    </tr>\n",
       "    <tr>\n",
       "      <th>std</th>\n",
       "      <td>1.118048</td>\n",
       "      <td>NaN</td>\n",
       "      <td>NaN</td>\n",
       "      <td>NaN</td>\n",
       "      <td>5.559905e+07</td>\n",
       "      <td>1.481333e+05</td>\n",
       "      <td>57.155130</td>\n",
       "      <td>NaN</td>\n",
       "      <td>NaN</td>\n",
       "      <td>NaN</td>\n",
       "    </tr>\n",
       "    <tr>\n",
       "      <th>min</th>\n",
       "      <td>2018.000000</td>\n",
       "      <td>NaN</td>\n",
       "      <td>NaN</td>\n",
       "      <td>NaN</td>\n",
       "      <td>0.000000e+00</td>\n",
       "      <td>0.000000e+00</td>\n",
       "      <td>0.000000</td>\n",
       "      <td>NaN</td>\n",
       "      <td>NaN</td>\n",
       "      <td>NaN</td>\n",
       "    </tr>\n",
       "    <tr>\n",
       "      <th>25%</th>\n",
       "      <td>2018.750000</td>\n",
       "      <td>NaN</td>\n",
       "      <td>NaN</td>\n",
       "      <td>NaN</td>\n",
       "      <td>0.000000e+00</td>\n",
       "      <td>0.000000e+00</td>\n",
       "      <td>0.000000</td>\n",
       "      <td>NaN</td>\n",
       "      <td>NaN</td>\n",
       "      <td>NaN</td>\n",
       "    </tr>\n",
       "    <tr>\n",
       "      <th>50%</th>\n",
       "      <td>2019.500000</td>\n",
       "      <td>NaN</td>\n",
       "      <td>NaN</td>\n",
       "      <td>NaN</td>\n",
       "      <td>2.800000e+05</td>\n",
       "      <td>2.512350e+02</td>\n",
       "      <td>1.000000</td>\n",
       "      <td>NaN</td>\n",
       "      <td>NaN</td>\n",
       "      <td>NaN</td>\n",
       "    </tr>\n",
       "    <tr>\n",
       "      <th>75%</th>\n",
       "      <td>2020.250000</td>\n",
       "      <td>NaN</td>\n",
       "      <td>NaN</td>\n",
       "      <td>NaN</td>\n",
       "      <td>3.452188e+06</td>\n",
       "      <td>2.237617e+03</td>\n",
       "      <td>4.000000</td>\n",
       "      <td>NaN</td>\n",
       "      <td>NaN</td>\n",
       "      <td>NaN</td>\n",
       "    </tr>\n",
       "    <tr>\n",
       "      <th>max</th>\n",
       "      <td>2021.000000</td>\n",
       "      <td>NaN</td>\n",
       "      <td>NaN</td>\n",
       "      <td>NaN</td>\n",
       "      <td>3.000000e+09</td>\n",
       "      <td>1.361769e+07</td>\n",
       "      <td>1636.000000</td>\n",
       "      <td>NaN</td>\n",
       "      <td>NaN</td>\n",
       "      <td>NaN</td>\n",
       "    </tr>\n",
       "  </tbody>\n",
       "</table>\n",
       "</div>"
      ],
      "text/plain": [
       "                year   month         city    district  price_riyals  \\\n",
       "count   41256.000000   41256        41256       40404  4.125600e+04   \n",
       "unique           NaN      12            5        1659           NaN   \n",
       "top              NaN  فبراير  مكة المكرمة  حي/الفيحاء           NaN   \n",
       "freq             NaN    3800        19496         192           NaN   \n",
       "mean     2019.500000     NaN          NaN         NaN  1.039169e+07   \n",
       "std         1.118048     NaN          NaN         NaN  5.559905e+07   \n",
       "min      2018.000000     NaN          NaN         NaN  0.000000e+00   \n",
       "25%      2018.750000     NaN          NaN         NaN  0.000000e+00   \n",
       "50%      2019.500000     NaN          NaN         NaN  2.800000e+05   \n",
       "75%      2020.250000     NaN          NaN         NaN  3.452188e+06   \n",
       "max      2021.000000     NaN          NaN         NaN  3.000000e+09   \n",
       "\n",
       "             area_m2      no_deals  status realstate_cls realstate_type  \n",
       "count   4.125600e+04  41256.000000   41256           804            660  \n",
       "unique           NaN           NaN       1             3             10  \n",
       "top              NaN           NaN  معتمدة          سكني       قطعة أرض  \n",
       "freq             NaN           NaN   41256           376            144  \n",
       "mean    1.316392e+04     10.487808     NaN           NaN            NaN  \n",
       "std     1.481333e+05     57.155130     NaN           NaN            NaN  \n",
       "min     0.000000e+00      0.000000     NaN           NaN            NaN  \n",
       "25%     0.000000e+00      0.000000     NaN           NaN            NaN  \n",
       "50%     2.512350e+02      1.000000     NaN           NaN            NaN  \n",
       "75%     2.237617e+03      4.000000     NaN           NaN            NaN  \n",
       "max     1.361769e+07   1636.000000     NaN           NaN            NaN  "
      ]
     },
     "execution_count": 6,
     "metadata": {},
     "output_type": "execute_result"
    }
   ],
   "source": [
    "# current statistics of data \n",
    "df.describe(include=\"all\")"
   ]
  },
  {
   "cell_type": "code",
   "execution_count": 7,
   "id": "bb54cac5",
   "metadata": {
    "scrolled": true
   },
   "outputs": [
    {
     "name": "stdout",
     "output_type": "stream",
     "text": [
      "<class 'pandas.core.frame.DataFrame'>\n",
      "RangeIndex: 41256 entries, 0 to 41255\n",
      "Data columns (total 10 columns):\n",
      " #   Column          Non-Null Count  Dtype  \n",
      "---  ------          --------------  -----  \n",
      " 0   year            41256 non-null  int64  \n",
      " 1   month           41256 non-null  object \n",
      " 2   city            41256 non-null  object \n",
      " 3   district        40404 non-null  object \n",
      " 4   price_riyals    41256 non-null  int64  \n",
      " 5   area_m2         41256 non-null  float64\n",
      " 6   no_deals        41256 non-null  int64  \n",
      " 7   status          41256 non-null  object \n",
      " 8   realstate_cls   804 non-null    object \n",
      " 9   realstate_type  660 non-null    object \n",
      "dtypes: float64(1), int64(3), object(6)\n",
      "memory usage: 3.1+ MB\n"
     ]
    }
   ],
   "source": [
    "# current datatype of data \n",
    "df.info()"
   ]
  },
  {
   "cell_type": "markdown",
   "id": "5ffb5cfc",
   "metadata": {},
   "source": [
    "### Replace month name from arabic to number\n",
    "list_month = [1, 'January', 31,\n",
    "              2, 'February', 28,\n",
    "              3,'March',31,\n",
    "              4,'April',30,\n",
    "              5,'May',31,\n",
    "              6,'June',30,\n",
    "              7,'July',31,\n",
    "              8,'August',31,\n",
    "              9,'September',30,\n",
    "              10,'October',31,\n",
    "              11,'November',30,\n",
    "              12,'December',31]"
   ]
  },
  {
   "cell_type": "code",
   "execution_count": 8,
   "id": "ab12e225",
   "metadata": {},
   "outputs": [],
   "source": [
    "# list of arabic months\n",
    "months_names = [\n",
    "    'يناير',\n",
    "    'فبراير',\n",
    "    'مارس',\n",
    "    'ابريل',\n",
    "    'مايو',\n",
    "    'يونيو',\n",
    "    'يوليو',\n",
    "    'اوغسطس',\n",
    "    'سبتمبر',\n",
    "    'اكتوبر',\n",
    "    'نوفمبر',\n",
    "    'ديسمبر'\n",
    "]"
   ]
  },
  {
   "cell_type": "code",
   "execution_count": 9,
   "id": "4ae74f95",
   "metadata": {},
   "outputs": [],
   "source": [
    "# set counter to 1\n",
    "i = 1\n",
    "df_fill = df\n",
    "df_fill['month_order'] = df.month"
   ]
  },
  {
   "cell_type": "code",
   "execution_count": 10,
   "id": "d7b1a412",
   "metadata": {},
   "outputs": [
    {
     "data": {
      "text/html": [
       "<div>\n",
       "<style scoped>\n",
       "    .dataframe tbody tr th:only-of-type {\n",
       "        vertical-align: middle;\n",
       "    }\n",
       "\n",
       "    .dataframe tbody tr th {\n",
       "        vertical-align: top;\n",
       "    }\n",
       "\n",
       "    .dataframe thead th {\n",
       "        text-align: right;\n",
       "    }\n",
       "</style>\n",
       "<table border=\"1\" class=\"dataframe\">\n",
       "  <thead>\n",
       "    <tr style=\"text-align: right;\">\n",
       "      <th></th>\n",
       "      <th>year</th>\n",
       "      <th>month</th>\n",
       "      <th>city</th>\n",
       "      <th>district</th>\n",
       "      <th>price_riyals</th>\n",
       "      <th>area_m2</th>\n",
       "      <th>no_deals</th>\n",
       "      <th>status</th>\n",
       "      <th>realstate_cls</th>\n",
       "      <th>realstate_type</th>\n",
       "      <th>month_order</th>\n",
       "    </tr>\n",
       "  </thead>\n",
       "  <tbody>\n",
       "    <tr>\n",
       "      <th>0</th>\n",
       "      <td>2018</td>\n",
       "      <td>مايو</td>\n",
       "      <td>الدمام</td>\n",
       "      <td>حي/1048/ ش د</td>\n",
       "      <td>1055000</td>\n",
       "      <td>2871.08</td>\n",
       "      <td>1</td>\n",
       "      <td>معتمدة</td>\n",
       "      <td>NaN</td>\n",
       "      <td>NaN</td>\n",
       "      <td>مايو</td>\n",
       "    </tr>\n",
       "    <tr>\n",
       "      <th>1</th>\n",
       "      <td>2018</td>\n",
       "      <td>يناير</td>\n",
       "      <td>الدمام</td>\n",
       "      <td>حي/1093 ش د</td>\n",
       "      <td>0</td>\n",
       "      <td>0.00</td>\n",
       "      <td>0</td>\n",
       "      <td>معتمدة</td>\n",
       "      <td>NaN</td>\n",
       "      <td>NaN</td>\n",
       "      <td>يناير</td>\n",
       "    </tr>\n",
       "    <tr>\n",
       "      <th>2</th>\n",
       "      <td>2018</td>\n",
       "      <td>مارس</td>\n",
       "      <td>الدمام</td>\n",
       "      <td>حي/1093 ش د</td>\n",
       "      <td>0</td>\n",
       "      <td>0.00</td>\n",
       "      <td>0</td>\n",
       "      <td>معتمدة</td>\n",
       "      <td>NaN</td>\n",
       "      <td>NaN</td>\n",
       "      <td>مارس</td>\n",
       "    </tr>\n",
       "    <tr>\n",
       "      <th>3</th>\n",
       "      <td>2018</td>\n",
       "      <td>مايو</td>\n",
       "      <td>الدمام</td>\n",
       "      <td>حي/1093 ش د</td>\n",
       "      <td>0</td>\n",
       "      <td>0.00</td>\n",
       "      <td>0</td>\n",
       "      <td>معتمدة</td>\n",
       "      <td>NaN</td>\n",
       "      <td>NaN</td>\n",
       "      <td>مايو</td>\n",
       "    </tr>\n",
       "    <tr>\n",
       "      <th>4</th>\n",
       "      <td>2018</td>\n",
       "      <td>يونيو</td>\n",
       "      <td>الدمام</td>\n",
       "      <td>حي/1093 ش د</td>\n",
       "      <td>0</td>\n",
       "      <td>0.00</td>\n",
       "      <td>0</td>\n",
       "      <td>معتمدة</td>\n",
       "      <td>NaN</td>\n",
       "      <td>NaN</td>\n",
       "      <td>يونيو</td>\n",
       "    </tr>\n",
       "  </tbody>\n",
       "</table>\n",
       "</div>"
      ],
      "text/plain": [
       "   year  month    city      district  price_riyals  area_m2  no_deals  status  \\\n",
       "0  2018   مايو  الدمام  حي/1048/ ش د       1055000  2871.08         1  معتمدة   \n",
       "1  2018  يناير  الدمام   حي/1093 ش د             0     0.00         0  معتمدة   \n",
       "2  2018   مارس  الدمام   حي/1093 ش د             0     0.00         0  معتمدة   \n",
       "3  2018   مايو  الدمام   حي/1093 ش د             0     0.00         0  معتمدة   \n",
       "4  2018  يونيو  الدمام   حي/1093 ش د             0     0.00         0  معتمدة   \n",
       "\n",
       "  realstate_cls realstate_type month_order  \n",
       "0           NaN            NaN        مايو  \n",
       "1           NaN            NaN       يناير  \n",
       "2           NaN            NaN        مارس  \n",
       "3           NaN            NaN        مايو  \n",
       "4           NaN            NaN       يونيو  "
      ]
     },
     "execution_count": 10,
     "metadata": {},
     "output_type": "execute_result"
    }
   ],
   "source": [
    "df_fill.head()"
   ]
  },
  {
   "cell_type": "code",
   "execution_count": 12,
   "id": "6d20c97a",
   "metadata": {},
   "outputs": [
    {
     "name": "stderr",
     "output_type": "stream",
     "text": [
      "<ipython-input-12-e3a1a9d115b5>:5: SettingWithCopyWarning: \n",
      "A value is trying to be set on a copy of a slice from a DataFrame\n",
      "\n",
      "See the caveats in the documentation: https://pandas.pydata.org/pandas-docs/stable/user_guide/indexing.html#returning-a-view-versus-a-copy\n",
      "  df_fill.month_order[df_fill.month_order == month] = i\n"
     ]
    }
   ],
   "source": [
    "# loop for each month and create a new column month_order to corresponding month order\n",
    "for month in months_names: \n",
    "    if i > 12: break \n",
    "    #if (df_fill.month_order[df_fill.month_order == month] != None):\n",
    "    df_fill.month_order[df_fill.month_order == month] = i       \n",
    "    i = i + 1    "
   ]
  },
  {
   "cell_type": "code",
   "execution_count": 13,
   "id": "2b2603b1",
   "metadata": {},
   "outputs": [
    {
     "data": {
      "text/plain": [
       "array([5, 1, 3, 6, 7, 8, 9, 10, 12, 2, 4, 11], dtype=object)"
      ]
     },
     "execution_count": 13,
     "metadata": {},
     "output_type": "execute_result"
    }
   ],
   "source": [
    "#check for result\n",
    "df_fill.month_order.unique()"
   ]
  },
  {
   "cell_type": "code",
   "execution_count": 14,
   "id": "d6035d5a",
   "metadata": {},
   "outputs": [
    {
     "data": {
      "text/html": [
       "<div>\n",
       "<style scoped>\n",
       "    .dataframe tbody tr th:only-of-type {\n",
       "        vertical-align: middle;\n",
       "    }\n",
       "\n",
       "    .dataframe tbody tr th {\n",
       "        vertical-align: top;\n",
       "    }\n",
       "\n",
       "    .dataframe thead th {\n",
       "        text-align: right;\n",
       "    }\n",
       "</style>\n",
       "<table border=\"1\" class=\"dataframe\">\n",
       "  <thead>\n",
       "    <tr style=\"text-align: right;\">\n",
       "      <th></th>\n",
       "      <th>year</th>\n",
       "      <th>month</th>\n",
       "      <th>city</th>\n",
       "      <th>district</th>\n",
       "      <th>price_riyals</th>\n",
       "      <th>area_m2</th>\n",
       "      <th>no_deals</th>\n",
       "      <th>status</th>\n",
       "      <th>realstate_cls</th>\n",
       "      <th>realstate_type</th>\n",
       "      <th>month_order</th>\n",
       "    </tr>\n",
       "  </thead>\n",
       "  <tbody>\n",
       "    <tr>\n",
       "      <th>0</th>\n",
       "      <td>2018</td>\n",
       "      <td>مايو</td>\n",
       "      <td>الدمام</td>\n",
       "      <td>حي/1048/ ش د</td>\n",
       "      <td>1055000</td>\n",
       "      <td>2871.08</td>\n",
       "      <td>1</td>\n",
       "      <td>معتمدة</td>\n",
       "      <td>NaN</td>\n",
       "      <td>NaN</td>\n",
       "      <td>5</td>\n",
       "    </tr>\n",
       "    <tr>\n",
       "      <th>1</th>\n",
       "      <td>2018</td>\n",
       "      <td>يناير</td>\n",
       "      <td>الدمام</td>\n",
       "      <td>حي/1093 ش د</td>\n",
       "      <td>0</td>\n",
       "      <td>0.00</td>\n",
       "      <td>0</td>\n",
       "      <td>معتمدة</td>\n",
       "      <td>NaN</td>\n",
       "      <td>NaN</td>\n",
       "      <td>1</td>\n",
       "    </tr>\n",
       "    <tr>\n",
       "      <th>2</th>\n",
       "      <td>2018</td>\n",
       "      <td>مارس</td>\n",
       "      <td>الدمام</td>\n",
       "      <td>حي/1093 ش د</td>\n",
       "      <td>0</td>\n",
       "      <td>0.00</td>\n",
       "      <td>0</td>\n",
       "      <td>معتمدة</td>\n",
       "      <td>NaN</td>\n",
       "      <td>NaN</td>\n",
       "      <td>3</td>\n",
       "    </tr>\n",
       "    <tr>\n",
       "      <th>3</th>\n",
       "      <td>2018</td>\n",
       "      <td>مايو</td>\n",
       "      <td>الدمام</td>\n",
       "      <td>حي/1093 ش د</td>\n",
       "      <td>0</td>\n",
       "      <td>0.00</td>\n",
       "      <td>0</td>\n",
       "      <td>معتمدة</td>\n",
       "      <td>NaN</td>\n",
       "      <td>NaN</td>\n",
       "      <td>5</td>\n",
       "    </tr>\n",
       "    <tr>\n",
       "      <th>4</th>\n",
       "      <td>2018</td>\n",
       "      <td>يونيو</td>\n",
       "      <td>الدمام</td>\n",
       "      <td>حي/1093 ش د</td>\n",
       "      <td>0</td>\n",
       "      <td>0.00</td>\n",
       "      <td>0</td>\n",
       "      <td>معتمدة</td>\n",
       "      <td>NaN</td>\n",
       "      <td>NaN</td>\n",
       "      <td>6</td>\n",
       "    </tr>\n",
       "  </tbody>\n",
       "</table>\n",
       "</div>"
      ],
      "text/plain": [
       "   year  month    city      district  price_riyals  area_m2  no_deals  status  \\\n",
       "0  2018   مايو  الدمام  حي/1048/ ش د       1055000  2871.08         1  معتمدة   \n",
       "1  2018  يناير  الدمام   حي/1093 ش د             0     0.00         0  معتمدة   \n",
       "2  2018   مارس  الدمام   حي/1093 ش د             0     0.00         0  معتمدة   \n",
       "3  2018   مايو  الدمام   حي/1093 ش د             0     0.00         0  معتمدة   \n",
       "4  2018  يونيو  الدمام   حي/1093 ش د             0     0.00         0  معتمدة   \n",
       "\n",
       "  realstate_cls realstate_type month_order  \n",
       "0           NaN            NaN           5  \n",
       "1           NaN            NaN           1  \n",
       "2           NaN            NaN           3  \n",
       "3           NaN            NaN           5  \n",
       "4           NaN            NaN           6  "
      ]
     },
     "execution_count": 14,
     "metadata": {},
     "output_type": "execute_result"
    }
   ],
   "source": [
    "df_fill.head()"
   ]
  },
  {
   "cell_type": "code",
   "execution_count": 15,
   "id": "f195c227",
   "metadata": {},
   "outputs": [],
   "source": [
    "df_fill.sort_values(\n",
    "    by=['realstate_cls', 'realstate_type','city', 'district', 'year', 'month_order'], \n",
    "    axis=0, \n",
    "    ascending=True, \n",
    "    inplace=True, \n",
    "    kind='quicksort', \n",
    "    na_position='last', \n",
    "    ignore_index=True, \n",
    "    key=None\n",
    ")"
   ]
  },
  {
   "cell_type": "code",
   "execution_count": 16,
   "id": "3a001b7c",
   "metadata": {},
   "outputs": [],
   "source": [
    "df_fill = df_fill.replace(0, np.nan)"
   ]
  },
  {
   "cell_type": "code",
   "execution_count": 17,
   "id": "97648e94",
   "metadata": {},
   "outputs": [
    {
     "name": "stdout",
     "output_type": "stream",
     "text": [
      "<class 'pandas.core.frame.DataFrame'>\n",
      "RangeIndex: 41256 entries, 0 to 41255\n",
      "Data columns (total 11 columns):\n",
      " #   Column          Non-Null Count  Dtype  \n",
      "---  ------          --------------  -----  \n",
      " 0   year            41256 non-null  int64  \n",
      " 1   month           41256 non-null  object \n",
      " 2   city            41256 non-null  object \n",
      " 3   district        40404 non-null  object \n",
      " 4   price_riyals    22371 non-null  float64\n",
      " 5   area_m2         22371 non-null  float64\n",
      " 6   no_deals        22371 non-null  float64\n",
      " 7   status          41256 non-null  object \n",
      " 8   realstate_cls   804 non-null    object \n",
      " 9   realstate_type  660 non-null    object \n",
      " 10  month_order     41256 non-null  object \n",
      "dtypes: float64(3), int64(1), object(7)\n",
      "memory usage: 3.5+ MB\n"
     ]
    }
   ],
   "source": [
    "# current datatype of data \n",
    "df_fill.info()"
   ]
  },
  {
   "cell_type": "code",
   "execution_count": null,
   "id": "1dda1ae6",
   "metadata": {},
   "outputs": [],
   "source": [
    "df_fill.to_excel(excel_writer = \"m.xlsx\", sheet_name='all', index=False)"
   ]
  },
  {
   "cell_type": "code",
   "execution_count": 18,
   "id": "d074d7a8",
   "metadata": {},
   "outputs": [
    {
     "data": {
      "text/plain": [
       "1660"
      ]
     },
     "execution_count": 18,
     "metadata": {},
     "output_type": "execute_result"
    }
   ],
   "source": [
    "unique_district = df_fill.district.unique()\n",
    "len(unique_district)"
   ]
  },
  {
   "cell_type": "markdown",
   "id": "9cc5d2d9",
   "metadata": {},
   "source": [
    "### Fill empty with Mean"
   ]
  },
  {
   "cell_type": "code",
   "execution_count": 20,
   "id": "8e89fcb6",
   "metadata": {},
   "outputs": [],
   "source": [
    "for district in unique_district: \n",
    "    df_u = df_fill[(df_fill.district == district)]\n",
    "    unique_year = df_u.year.unique()\n",
    "    for year in unique_year: \n",
    "        price_fill = df_u.price_riyals[(df_u.year == year)].mean(skipna=True) \n",
    "        df_u.price_riyals[(df_u.year == year)].fillna(value = price_fill, method=None, inplace=True)\n",
    "        #print(district, year, price_fill)\n",
    "        area_fill = df_u.area_m2[(df_u.year == year)].mean(skipna=True) \n",
    "        df_u.area_m2[(df_u.year == year)].fillna(value = area_fill, method=None, inplace=True)\n",
    "        #print(district, year, area_fill)\n",
    "        no_deals_fill = df_u.no_deals[(df_u.year == year)].mean(skipna=True) \n",
    "        df_u.area_m2[(df_u.year == year)].fillna(value = no_deals_fill, method=None, inplace=True)\n",
    "        #print(district, year, no_deals_fill)\n",
    "    df_fill[(df_fill.district == district)] = df_u"
   ]
  },
  {
   "cell_type": "code",
   "execution_count": null,
   "id": "97c113fe",
   "metadata": {},
   "outputs": [],
   "source": [
    "df_fill"
   ]
  },
  {
   "cell_type": "code",
   "execution_count": null,
   "id": "37bdf27c",
   "metadata": {},
   "outputs": [],
   "source": [
    "df_fill.info()"
   ]
  },
  {
   "cell_type": "code",
   "execution_count": null,
   "id": "16c101bc",
   "metadata": {},
   "outputs": [],
   "source": []
  },
  {
   "cell_type": "code",
   "execution_count": null,
   "id": "3dd39f93",
   "metadata": {},
   "outputs": [],
   "source": []
  },
  {
   "cell_type": "code",
   "execution_count": null,
   "id": "1fecf318",
   "metadata": {},
   "outputs": [],
   "source": []
  },
  {
   "cell_type": "code",
   "execution_count": null,
   "id": "d5218776",
   "metadata": {},
   "outputs": [],
   "source": []
  },
  {
   "cell_type": "code",
   "execution_count": null,
   "id": "690fcbc1",
   "metadata": {},
   "outputs": [],
   "source": [
    ".replace(0,df['a'].mean())"
   ]
  },
  {
   "cell_type": "code",
   "execution_count": null,
   "id": "f7330450",
   "metadata": {},
   "outputs": [],
   "source": [
    ".mean(skipna=True)\n",
    "\n"
   ]
  },
  {
   "cell_type": "code",
   "execution_count": null,
   "id": "e03a171c",
   "metadata": {},
   "outputs": [],
   "source": [
    "df_g = df.groupby(by=['realstate_cls', 'realstate_type'])"
   ]
  },
  {
   "cell_type": "code",
   "execution_count": null,
   "id": "470ed3a5",
   "metadata": {},
   "outputs": [],
   "source": []
  },
  {
   "cell_type": "code",
   "execution_count": null,
   "id": "acabe262",
   "metadata": {},
   "outputs": [],
   "source": [
    "df_fill"
   ]
  },
  {
   "cell_type": "code",
   "execution_count": null,
   "id": "e6a7a3d9",
   "metadata": {},
   "outputs": [],
   "source": []
  },
  {
   "cell_type": "markdown",
   "id": "f210996a",
   "metadata": {},
   "source": [
    "## Saving the cleaning data in other format:\n",
    "#### Complete information with missing values"
   ]
  },
  {
   "cell_type": "code",
   "execution_count": null,
   "id": "de47ad72",
   "metadata": {},
   "outputs": [],
   "source": [
    "# 1- saving complete dataset with missing values as excel file\n",
    "df.to_excel(excel_writer = \"data/xlsx/all.xlsx\", sheet_name='all', index=False)"
   ]
  },
  {
   "cell_type": "code",
   "execution_count": null,
   "id": "ea56b0b5",
   "metadata": {},
   "outputs": [],
   "source": [
    "# 2- saving complete dataset with missing values as csv file\n",
    "df.to_csv(\"data/csv/all.csv\", header=True, index=False, encoding='utf_8_sig')"
   ]
  },
  {
   "cell_type": "code",
   "execution_count": null,
   "id": "b71b2e3a",
   "metadata": {},
   "outputs": [],
   "source": [
    "# 3- saving complete dataset with missing values as json file\n",
    "with open(\"data/json/all.json\", \"w\") as write_file:\n",
    "    json.dump(\n",
    "        df.to_json(\n",
    "            orient='records', \n",
    "            double_precision=10, \n",
    "            force_ascii=False, \n",
    "            lines=True, \n",
    "            compression='infer', \n",
    "            index=True, \n",
    "            indent=4), \n",
    "        write_file\n",
    "    )"
   ]
  },
  {
   "cell_type": "markdown",
   "id": "76a3a69c",
   "metadata": {},
   "source": [
    "## Saving the cleaning data in other format:\n",
    "#### Information with no missing values"
   ]
  },
  {
   "cell_type": "code",
   "execution_count": null,
   "id": "02cd1bd9",
   "metadata": {},
   "outputs": [],
   "source": [
    "# 1- saving dataset with no missing values as excel file\n",
    "df_m.to_excel(excel_writer = \"data/xlsx/all_m.xlsx\", sheet_name='all', index=False)"
   ]
  },
  {
   "cell_type": "code",
   "execution_count": null,
   "id": "71ce641d",
   "metadata": {},
   "outputs": [],
   "source": [
    "# 2- saving dataset with no missing values as csv file\n",
    "df_m.to_csv(\"data/csv/all_m.csv\", header=True, index=False, encoding='utf_8_sig')"
   ]
  },
  {
   "cell_type": "code",
   "execution_count": null,
   "id": "59d7b1f3",
   "metadata": {},
   "outputs": [],
   "source": [
    "# 3- saving dataset with no missing values as json file\n",
    "with open(\"data/json/all_m.json\", \"w\") as write_file:\n",
    "    json.dump(\n",
    "        df_m.to_json(\n",
    "            orient='records', \n",
    "            double_precision=10, \n",
    "            force_ascii=False, \n",
    "            lines=True, \n",
    "            compression='infer', \n",
    "            index=True, \n",
    "            indent=4), \n",
    "        write_file\n",
    "    )"
   ]
  },
  {
   "cell_type": "code",
   "execution_count": null,
   "id": "a811b0e2",
   "metadata": {},
   "outputs": [],
   "source": []
  }
 ],
 "metadata": {
  "kernelspec": {
   "display_name": "Python 3",
   "language": "python",
   "name": "python3"
  },
  "language_info": {
   "codemirror_mode": {
    "name": "ipython",
    "version": 3
   },
   "file_extension": ".py",
   "mimetype": "text/x-python",
   "name": "python",
   "nbconvert_exporter": "python",
   "pygments_lexer": "ipython3",
   "version": "3.8.8"
  }
 },
 "nbformat": 4,
 "nbformat_minor": 5
}
